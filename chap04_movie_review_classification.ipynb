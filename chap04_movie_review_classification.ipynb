{
  "cells": [
    {
      "cell_type": "markdown",
      "metadata": {
        "id": "view-in-github",
        "colab_type": "text"
      },
      "source": [
        "<a href=\"https://colab.research.google.com/github/coraldx5/generativeai_intro_book/blob/master/chap04_movie_review_classification.ipynb\" target=\"_parent\"><img src=\"https://colab.research.google.com/assets/colab-badge.svg\" alt=\"Open In Colab\"/></a>"
      ]
    },
    {
      "cell_type": "markdown",
      "id": "4892dce5-421a-4d35-b827-9413b3ab4107",
      "metadata": {
        "id": "4892dce5-421a-4d35-b827-9413b3ab4107"
      },
      "source": [
        "# 書分類問題を解いてみよう\n",
        "## 映画レビューの良し/悪しを分類するモデルを作成します\n",
        "- 本Notebookのゴール感\n",
        "  - Collaboratory上でのPythonの動かし方を体験する\n",
        "  - コードを動かしながら自然言語処理に対する理解を深める"
      ]
    },
    {
      "cell_type": "markdown",
      "source": [
        "## 必要なライブラリのインストール"
      ],
      "metadata": {
        "id": "mdwKymnBOJzy"
      },
      "id": "mdwKymnBOJzy"
    },
    {
      "cell_type": "code",
      "execution_count": 20,
      "id": "a655d06e-1260-4083-bf2f-e57848981738",
      "metadata": {
        "tags": [],
        "colab": {
          "base_uri": "https://localhost:8080/"
        },
        "id": "a655d06e-1260-4083-bf2f-e57848981738",
        "outputId": "e6bd424b-d8fc-42d4-8098-3b28d104f83f"
      },
      "outputs": [
        {
          "output_type": "stream",
          "name": "stdout",
          "text": [
            "Requirement already satisfied: janome==0.5.0 in /usr/local/lib/python3.10/dist-packages (0.5.0)\n"
          ]
        }
      ],
      "source": [
        "!pip install janome==0.5.0\n",
        "# PIPというライブラリ管理ツールを用いて簡単にインストールできます"
      ]
    },
    {
      "cell_type": "code",
      "source": [
        "# GithubからCSVを持ってくる\n",
        "!wget https://raw.githubusercontent.com/coraldx5/generativeai_intro_book/master/movie_review_jpn.csv"
      ],
      "metadata": {
        "id": "hobh-NwDNFRE",
        "colab": {
          "base_uri": "https://localhost:8080/"
        },
        "outputId": "81a090e9-4f8c-4a75-9063-006b67599152"
      },
      "id": "hobh-NwDNFRE",
      "execution_count": 21,
      "outputs": [
        {
          "output_type": "stream",
          "name": "stdout",
          "text": [
            "--2024-04-29 14:17:56--  https://raw.githubusercontent.com/coraldx5/generativeai_intro_book/master/movie_review_jpn.csv\n",
            "Resolving raw.githubusercontent.com (raw.githubusercontent.com)... 185.199.108.133, 185.199.109.133, 185.199.110.133, ...\n",
            "Connecting to raw.githubusercontent.com (raw.githubusercontent.com)|185.199.108.133|:443... connected.\n",
            "HTTP request sent, awaiting response... 200 OK\n",
            "Length: 7975 (7.8K) [text/plain]\n",
            "Saving to: ‘movie_review_jpn.csv.1’\n",
            "\n",
            "\rmovie_review_jpn.cs   0%[                    ]       0  --.-KB/s               \rmovie_review_jpn.cs 100%[===================>]   7.79K  --.-KB/s    in 0s      \n",
            "\n",
            "2024-04-29 14:17:56 (60.5 MB/s) - ‘movie_review_jpn.csv.1’ saved [7975/7975]\n",
            "\n"
          ]
        }
      ]
    },
    {
      "cell_type": "code",
      "execution_count": 3,
      "id": "f9d1ad15-9213-44d6-8758-96a456b36b06",
      "metadata": {
        "tags": [],
        "id": "f9d1ad15-9213-44d6-8758-96a456b36b06"
      },
      "outputs": [],
      "source": [
        "from sklearn.model_selection import train_test_split\n",
        "import pandas as pd\n",
        "\n",
        "spam_df = pd.read_csv(\"movie_review_jpn.csv\", header=None)  # データの読み込み\n",
        "\n",
        "# ラベルと文章を分ける\n",
        "labels = spam_df[0].values\n",
        "sentences = spam_df[1].values\n",
        "\n",
        "label_dic = {'good': 1, 'bad': 0}\n",
        "label_dic_inv = {v: k for k, v in label_dic.items()}\n",
        "label_ids = [label_dic[i] for i in labels]\n",
        "\n",
        "# 7:3に学習データとテストデータを分割する\n",
        "train_sentence, test_sentence, y_train, y_test = train_test_split(sentences, label_ids, test_size=0.3, random_state=0, stratify=label_ids)"
      ]
    },
    {
      "cell_type": "code",
      "execution_count": 4,
      "id": "161929df-af62-4201-9b16-3197af6eebb7",
      "metadata": {
        "tags": [],
        "id": "161929df-af62-4201-9b16-3197af6eebb7"
      },
      "outputs": [],
      "source": [
        "from janome.tokenizer import Tokenizer\n",
        "from janome.analyzer import Analyzer\n",
        "from janome.tokenfilter import *\n",
        "from janome.charfilter import *\n",
        "\n",
        "my_analyzer = Analyzer(char_filters=[\n",
        "                                    UnicodeNormalizeCharFilter(),\n",
        "                                    RegexReplaceCharFilter(r\"[IiⅠｉ?.*/~=()〝 <>:：《°!！!？（）-]+\", \"\")\n",
        "                                    ],\n",
        "                       tokenizer=Tokenizer(),\n",
        "                       token_filters=[POSKeepFilter([\"名詞\",\"形容詞\",\"動詞\"]), LowerCaseFilter()]\n",
        "                      )\n",
        "\n",
        "t = Tokenizer()\n",
        "def janome_analyzer(x):\n",
        "    return [token.surface for token in my_analyzer.analyze(x)]"
      ]
    },
    {
      "cell_type": "code",
      "execution_count": 5,
      "id": "05d42bd6-4cb8-4f5b-8539-2ae291708ad7",
      "metadata": {
        "tags": [],
        "id": "05d42bd6-4cb8-4f5b-8539-2ae291708ad7"
      },
      "outputs": [],
      "source": [
        "from sklearn.feature_extraction.text import CountVectorizer\n",
        "from sklearn.feature_extraction.text import TfidfVectorizer\n",
        "\n",
        "vectorizer = CountVectorizer(analyzer=janome_analyzer)\n",
        "# vectorizer = TfidfVectorizer(analyzer=janome_analyzer)\n",
        "X_train = vectorizer.fit_transform(train_sentence)\n",
        "X_test = vectorizer.transform(test_sentence)"
      ]
    },
    {
      "cell_type": "code",
      "execution_count": 6,
      "id": "14237137-6f5f-4e5d-83cd-d813f5eadf66",
      "metadata": {
        "tags": [],
        "id": "14237137-6f5f-4e5d-83cd-d813f5eadf66",
        "outputId": "937f4b27-151c-482f-d99c-dd050c4610eb",
        "colab": {
          "base_uri": "https://localhost:8080/"
        }
      },
      "outputs": [
        {
          "output_type": "stream",
          "name": "stdout",
          "text": [
            "   あり  い  おり  くれ  さ  させ  し  せ  たち  つまらなかっ  ...  雰囲気  非常  音楽  響く  騗  驚き  驚く  \\\n",
            "0   0  0   0   0  1   0  0  0   0       0  ...    0   0   0   0  0   0   0   \n",
            "1   0  0   0   0  1   0  0  0   0       0  ...    0   0   0   0  0   0   0   \n",
            "2   0  0   0   0  0   0  0  0   1       0  ...    0   0   0   0  0   0   0   \n",
            "3   0  0   0   0  0   0  0  0   0       0  ...    0   0   0   0  0   0   0   \n",
            "4   0  0   0   0  0   0  1  0   0       1  ...    0   0   0   0  0   0   0   \n",
            "5   0  0   0   0  0   0  0  0   0       0  ...    0   0   0   0  0   0   0   \n",
            "6   0  0   0   0  0   0  1  0   1       0  ...    0   0   0   0  0   0   0   \n",
            "7   0  0   0   0  0   0  0  0   0       0  ...    0   0   0   0  0   0   0   \n",
            "8   0  0   0   1  0   0  1  0   0       0  ...    0   0   0   0  0   0   0   \n",
            "9   0  0   0   0  1   0  0  0   0       0  ...    0   0   0   0  0   0   0   \n",
            "\n",
            "   高め  魅了  魅力  \n",
            "0   0   0   0  \n",
            "1   0   0   0  \n",
            "2   0   0   0  \n",
            "3   0   0   0  \n",
            "4   0   0   0  \n",
            "5   0   0   0  \n",
            "6   0   0   0  \n",
            "7   0   0   0  \n",
            "8   0   0   0  \n",
            "9   0   0   0  \n",
            "\n",
            "[10 rows x 167 columns]\n"
          ]
        }
      ],
      "source": [
        "#Trainの上から10件だけ可視化\n",
        "vector_array = X_train[:10].toarray()\n",
        "df = pd.DataFrame(data=vector_array,columns = vectorizer.get_feature_names_out())\n",
        "print(df)"
      ]
    },
    {
      "cell_type": "code",
      "execution_count": 7,
      "id": "73171910-716a-4c24-ae07-b9276b5d073c",
      "metadata": {
        "tags": [],
        "id": "73171910-716a-4c24-ae07-b9276b5d073c",
        "outputId": "8d5005a3-3661-4a57-8da7-ba7e4230392a",
        "colab": {
          "base_uri": "https://localhost:8080/",
          "height": 112
        }
      },
      "outputs": [
        {
          "output_type": "execute_result",
          "data": {
            "text/plain": [
              "             Predicted good  Predicted bad\n",
              "Actual good              12              0\n",
              "Actual bad                2             10"
            ],
            "text/html": [
              "\n",
              "  <div id=\"df-18fc3f35-ab13-438c-b34c-ce48942517d0\" class=\"colab-df-container\">\n",
              "    <div>\n",
              "<style scoped>\n",
              "    .dataframe tbody tr th:only-of-type {\n",
              "        vertical-align: middle;\n",
              "    }\n",
              "\n",
              "    .dataframe tbody tr th {\n",
              "        vertical-align: top;\n",
              "    }\n",
              "\n",
              "    .dataframe thead th {\n",
              "        text-align: right;\n",
              "    }\n",
              "</style>\n",
              "<table border=\"1\" class=\"dataframe\">\n",
              "  <thead>\n",
              "    <tr style=\"text-align: right;\">\n",
              "      <th></th>\n",
              "      <th>Predicted good</th>\n",
              "      <th>Predicted bad</th>\n",
              "    </tr>\n",
              "  </thead>\n",
              "  <tbody>\n",
              "    <tr>\n",
              "      <th>Actual good</th>\n",
              "      <td>12</td>\n",
              "      <td>0</td>\n",
              "    </tr>\n",
              "    <tr>\n",
              "      <th>Actual bad</th>\n",
              "      <td>2</td>\n",
              "      <td>10</td>\n",
              "    </tr>\n",
              "  </tbody>\n",
              "</table>\n",
              "</div>\n",
              "    <div class=\"colab-df-buttons\">\n",
              "\n",
              "  <div class=\"colab-df-container\">\n",
              "    <button class=\"colab-df-convert\" onclick=\"convertToInteractive('df-18fc3f35-ab13-438c-b34c-ce48942517d0')\"\n",
              "            title=\"Convert this dataframe to an interactive table.\"\n",
              "            style=\"display:none;\">\n",
              "\n",
              "  <svg xmlns=\"http://www.w3.org/2000/svg\" height=\"24px\" viewBox=\"0 -960 960 960\">\n",
              "    <path d=\"M120-120v-720h720v720H120Zm60-500h600v-160H180v160Zm220 220h160v-160H400v160Zm0 220h160v-160H400v160ZM180-400h160v-160H180v160Zm440 0h160v-160H620v160ZM180-180h160v-160H180v160Zm440 0h160v-160H620v160Z\"/>\n",
              "  </svg>\n",
              "    </button>\n",
              "\n",
              "  <style>\n",
              "    .colab-df-container {\n",
              "      display:flex;\n",
              "      gap: 12px;\n",
              "    }\n",
              "\n",
              "    .colab-df-convert {\n",
              "      background-color: #E8F0FE;\n",
              "      border: none;\n",
              "      border-radius: 50%;\n",
              "      cursor: pointer;\n",
              "      display: none;\n",
              "      fill: #1967D2;\n",
              "      height: 32px;\n",
              "      padding: 0 0 0 0;\n",
              "      width: 32px;\n",
              "    }\n",
              "\n",
              "    .colab-df-convert:hover {\n",
              "      background-color: #E2EBFA;\n",
              "      box-shadow: 0px 1px 2px rgba(60, 64, 67, 0.3), 0px 1px 3px 1px rgba(60, 64, 67, 0.15);\n",
              "      fill: #174EA6;\n",
              "    }\n",
              "\n",
              "    .colab-df-buttons div {\n",
              "      margin-bottom: 4px;\n",
              "    }\n",
              "\n",
              "    [theme=dark] .colab-df-convert {\n",
              "      background-color: #3B4455;\n",
              "      fill: #D2E3FC;\n",
              "    }\n",
              "\n",
              "    [theme=dark] .colab-df-convert:hover {\n",
              "      background-color: #434B5C;\n",
              "      box-shadow: 0px 1px 3px 1px rgba(0, 0, 0, 0.15);\n",
              "      filter: drop-shadow(0px 1px 2px rgba(0, 0, 0, 0.3));\n",
              "      fill: #FFFFFF;\n",
              "    }\n",
              "  </style>\n",
              "\n",
              "    <script>\n",
              "      const buttonEl =\n",
              "        document.querySelector('#df-18fc3f35-ab13-438c-b34c-ce48942517d0 button.colab-df-convert');\n",
              "      buttonEl.style.display =\n",
              "        google.colab.kernel.accessAllowed ? 'block' : 'none';\n",
              "\n",
              "      async function convertToInteractive(key) {\n",
              "        const element = document.querySelector('#df-18fc3f35-ab13-438c-b34c-ce48942517d0');\n",
              "        const dataTable =\n",
              "          await google.colab.kernel.invokeFunction('convertToInteractive',\n",
              "                                                    [key], {});\n",
              "        if (!dataTable) return;\n",
              "\n",
              "        const docLinkHtml = 'Like what you see? Visit the ' +\n",
              "          '<a target=\"_blank\" href=https://colab.research.google.com/notebooks/data_table.ipynb>data table notebook</a>'\n",
              "          + ' to learn more about interactive tables.';\n",
              "        element.innerHTML = '';\n",
              "        dataTable['output_type'] = 'display_data';\n",
              "        await google.colab.output.renderOutput(dataTable, element);\n",
              "        const docLink = document.createElement('div');\n",
              "        docLink.innerHTML = docLinkHtml;\n",
              "        element.appendChild(docLink);\n",
              "      }\n",
              "    </script>\n",
              "  </div>\n",
              "\n",
              "\n",
              "<div id=\"df-b9b4baed-f141-46fe-99a1-426201d843f6\">\n",
              "  <button class=\"colab-df-quickchart\" onclick=\"quickchart('df-b9b4baed-f141-46fe-99a1-426201d843f6')\"\n",
              "            title=\"Suggest charts\"\n",
              "            style=\"display:none;\">\n",
              "\n",
              "<svg xmlns=\"http://www.w3.org/2000/svg\" height=\"24px\"viewBox=\"0 0 24 24\"\n",
              "     width=\"24px\">\n",
              "    <g>\n",
              "        <path d=\"M19 3H5c-1.1 0-2 .9-2 2v14c0 1.1.9 2 2 2h14c1.1 0 2-.9 2-2V5c0-1.1-.9-2-2-2zM9 17H7v-7h2v7zm4 0h-2V7h2v10zm4 0h-2v-4h2v4z\"/>\n",
              "    </g>\n",
              "</svg>\n",
              "  </button>\n",
              "\n",
              "<style>\n",
              "  .colab-df-quickchart {\n",
              "      --bg-color: #E8F0FE;\n",
              "      --fill-color: #1967D2;\n",
              "      --hover-bg-color: #E2EBFA;\n",
              "      --hover-fill-color: #174EA6;\n",
              "      --disabled-fill-color: #AAA;\n",
              "      --disabled-bg-color: #DDD;\n",
              "  }\n",
              "\n",
              "  [theme=dark] .colab-df-quickchart {\n",
              "      --bg-color: #3B4455;\n",
              "      --fill-color: #D2E3FC;\n",
              "      --hover-bg-color: #434B5C;\n",
              "      --hover-fill-color: #FFFFFF;\n",
              "      --disabled-bg-color: #3B4455;\n",
              "      --disabled-fill-color: #666;\n",
              "  }\n",
              "\n",
              "  .colab-df-quickchart {\n",
              "    background-color: var(--bg-color);\n",
              "    border: none;\n",
              "    border-radius: 50%;\n",
              "    cursor: pointer;\n",
              "    display: none;\n",
              "    fill: var(--fill-color);\n",
              "    height: 32px;\n",
              "    padding: 0;\n",
              "    width: 32px;\n",
              "  }\n",
              "\n",
              "  .colab-df-quickchart:hover {\n",
              "    background-color: var(--hover-bg-color);\n",
              "    box-shadow: 0 1px 2px rgba(60, 64, 67, 0.3), 0 1px 3px 1px rgba(60, 64, 67, 0.15);\n",
              "    fill: var(--button-hover-fill-color);\n",
              "  }\n",
              "\n",
              "  .colab-df-quickchart-complete:disabled,\n",
              "  .colab-df-quickchart-complete:disabled:hover {\n",
              "    background-color: var(--disabled-bg-color);\n",
              "    fill: var(--disabled-fill-color);\n",
              "    box-shadow: none;\n",
              "  }\n",
              "\n",
              "  .colab-df-spinner {\n",
              "    border: 2px solid var(--fill-color);\n",
              "    border-color: transparent;\n",
              "    border-bottom-color: var(--fill-color);\n",
              "    animation:\n",
              "      spin 1s steps(1) infinite;\n",
              "  }\n",
              "\n",
              "  @keyframes spin {\n",
              "    0% {\n",
              "      border-color: transparent;\n",
              "      border-bottom-color: var(--fill-color);\n",
              "      border-left-color: var(--fill-color);\n",
              "    }\n",
              "    20% {\n",
              "      border-color: transparent;\n",
              "      border-left-color: var(--fill-color);\n",
              "      border-top-color: var(--fill-color);\n",
              "    }\n",
              "    30% {\n",
              "      border-color: transparent;\n",
              "      border-left-color: var(--fill-color);\n",
              "      border-top-color: var(--fill-color);\n",
              "      border-right-color: var(--fill-color);\n",
              "    }\n",
              "    40% {\n",
              "      border-color: transparent;\n",
              "      border-right-color: var(--fill-color);\n",
              "      border-top-color: var(--fill-color);\n",
              "    }\n",
              "    60% {\n",
              "      border-color: transparent;\n",
              "      border-right-color: var(--fill-color);\n",
              "    }\n",
              "    80% {\n",
              "      border-color: transparent;\n",
              "      border-right-color: var(--fill-color);\n",
              "      border-bottom-color: var(--fill-color);\n",
              "    }\n",
              "    90% {\n",
              "      border-color: transparent;\n",
              "      border-bottom-color: var(--fill-color);\n",
              "    }\n",
              "  }\n",
              "</style>\n",
              "\n",
              "  <script>\n",
              "    async function quickchart(key) {\n",
              "      const quickchartButtonEl =\n",
              "        document.querySelector('#' + key + ' button');\n",
              "      quickchartButtonEl.disabled = true;  // To prevent multiple clicks.\n",
              "      quickchartButtonEl.classList.add('colab-df-spinner');\n",
              "      try {\n",
              "        const charts = await google.colab.kernel.invokeFunction(\n",
              "            'suggestCharts', [key], {});\n",
              "      } catch (error) {\n",
              "        console.error('Error during call to suggestCharts:', error);\n",
              "      }\n",
              "      quickchartButtonEl.classList.remove('colab-df-spinner');\n",
              "      quickchartButtonEl.classList.add('colab-df-quickchart-complete');\n",
              "    }\n",
              "    (() => {\n",
              "      let quickchartButtonEl =\n",
              "        document.querySelector('#df-b9b4baed-f141-46fe-99a1-426201d843f6 button');\n",
              "      quickchartButtonEl.style.display =\n",
              "        google.colab.kernel.accessAllowed ? 'block' : 'none';\n",
              "    })();\n",
              "  </script>\n",
              "</div>\n",
              "\n",
              "    </div>\n",
              "  </div>\n"
            ],
            "application/vnd.google.colaboratory.intrinsic+json": {
              "type": "dataframe",
              "summary": "{\n  \"name\": \"pd\",\n  \"rows\": 2,\n  \"fields\": [\n    {\n      \"column\": \"Predicted good\",\n      \"properties\": {\n        \"dtype\": \"number\",\n        \"std\": 7,\n        \"min\": 2,\n        \"max\": 12,\n        \"num_unique_values\": 2,\n        \"samples\": [\n          2,\n          12\n        ],\n        \"semantic_type\": \"\",\n        \"description\": \"\"\n      }\n    },\n    {\n      \"column\": \"Predicted bad\",\n      \"properties\": {\n        \"dtype\": \"number\",\n        \"std\": 7,\n        \"min\": 0,\n        \"max\": 10,\n        \"num_unique_values\": 2,\n        \"samples\": [\n          10,\n          0\n        ],\n        \"semantic_type\": \"\",\n        \"description\": \"\"\n      }\n    }\n  ]\n}"
            }
          },
          "metadata": {},
          "execution_count": 7
        }
      ],
      "source": [
        "from sklearn.linear_model import LogisticRegression\n",
        "from sklearn.metrics import confusion_matrix\n",
        "\n",
        "lr = LogisticRegression(random_state=0, n_jobs=-1)\n",
        "lr.fit(X_train, y_train)\n",
        "\n",
        "y_pred = lr.predict(X_test)\n",
        "cm = confusion_matrix(y_test, y_pred)\n",
        "\n",
        "pd.DataFrame(cm,columns=['Predicted good', 'Predicted bad'], index=['Actual good', 'Actual bad'])"
      ]
    },
    {
      "cell_type": "code",
      "execution_count": 8,
      "id": "e0114e76-281b-4b83-866c-92c94496eff5",
      "metadata": {
        "tags": [],
        "id": "e0114e76-281b-4b83-866c-92c94496eff5"
      },
      "outputs": [],
      "source": [
        "from IPython.display import display, HTML\n",
        "\n",
        "# 赤くハイライトする\n",
        "def highlight_r(word, attn):\n",
        "  html_color = '#%02X%02X%02X' % (255, int(255*(1 - attn)), int(255*(1 - attn)))\n",
        "  return '<span style=\"background-color: {}\">{}</span>'.format(html_color, word)\n",
        "\n",
        "# 青くハイライトする\n",
        "def highlight_b(word, attn):\n",
        "  html_color = '#%02X%02X%02X' % (int(255*(1 - attn)), int(255*(1 - attn)), 255)\n",
        "  return '<span style=\"background-color: {}\">{}</span>'.format(html_color, word)\n",
        "\n",
        "def show_lr_explaination(check_idx):\n",
        "    # 単語と説明変数の値の辞書\n",
        "    coef_dic = {j: i for i, j in zip(lr.coef_[0], vectorizer.get_feature_names_out())}\n",
        "\n",
        "    # 対象の文章の単語の説明変数の値を確認していく\n",
        "    texts = janome_analyzer(test_sentence[check_idx])\n",
        "    scores = []\n",
        "    for w in texts:\n",
        "        try:\n",
        "            s = coef_dic[w]\n",
        "        except KeyError:\n",
        "            s = 0  # 対象外の単語は0を割り当てる\n",
        "        scores.append(s)\n",
        "\n",
        "    # 文章をハイライトしていく\n",
        "    html_outputs = []\n",
        "    for word, attn in zip(texts, scores):\n",
        "        if attn < 0:\n",
        "            html_outputs.append(highlight_b(word, attn*-1))\n",
        "        else:\n",
        "            html_outputs.append(highlight_r(word, attn))\n",
        "\n",
        "    # 結果を表示\n",
        "    display(HTML(' '.join(html_outputs)))"
      ]
    },
    {
      "cell_type": "code",
      "execution_count": 9,
      "id": "518c722e-a7d1-4187-a8a1-24652feb6027",
      "metadata": {
        "tags": [],
        "id": "518c722e-a7d1-4187-a8a1-24652feb6027",
        "outputId": "3f48f70d-b6c4-4f53-8f7a-c0e8fed3376a",
        "colab": {
          "base_uri": "https://localhost:8080/",
          "height": 34
        }
      },
      "outputs": [
        {
          "output_type": "display_data",
          "data": {
            "text/plain": [
              "<IPython.core.display.HTML object>"
            ],
            "text/html": [
              "<span style=\"background-color: #7979FF\">期待</span> <span style=\"background-color: #F8F8FF\">大きく</span> <span style=\"background-color: #F8F8FF\">下回り</span> <span style=\"background-color: #FFFFFF\">つまらない</span> <span style=\"background-color: #FDFDFF\">時間</span> <span style=\"background-color: #AFAFFF\">ストーリー</span> <span style=\"background-color: #ACACFF\">混乱</span> <span style=\"background-color: #FFD9D9\">し</span> <span style=\"background-color: #FFF0F0\">感動</span> <span style=\"background-color: #FF-C-C\">的</span> <span style=\"background-color: #B4B4FF\">瞬間</span> <span style=\"background-color: #DDDDFF\">皆無</span> <span style=\"background-color: #E8E8FF\">出演</span> <span style=\"background-color: #E8E8FF\">者</span> <span style=\"background-color: #EBEBFF\">演技</span> <span style=\"background-color: #7474FF\">平凡</span> <span style=\"background-color: #FFDFDF\">キャラクター</span> <span style=\"background-color: #AFAFFF\">たち</span> <span style=\"background-color: #B5B5FF\">魅力</span> <span style=\"background-color: #5E5EFF\">欠け</span>"
            ]
          },
          "metadata": {}
        }
      ],
      "source": [
        "show_lr_explaination(0)"
      ]
    },
    {
      "cell_type": "code",
      "execution_count": 10,
      "id": "615dc6f5-9fb6-401e-a215-3dc9e8ba572d",
      "metadata": {
        "tags": [],
        "id": "615dc6f5-9fb6-401e-a215-3dc9e8ba572d",
        "outputId": "072940c0-39de-4fe1-8458-c5e606d37ee4",
        "colab": {
          "base_uri": "https://localhost:8080/",
          "height": 34
        }
      },
      "outputs": [
        {
          "output_type": "display_data",
          "data": {
            "text/plain": [
              "<IPython.core.display.HTML object>"
            ],
            "text/html": [
              "<span style=\"background-color: #A8A8FF\">映画</span> <span style=\"background-color: #FFFFFF\">ユーモア</span> <span style=\"background-color: #B5B5FF\">魅力</span> <span style=\"background-color: #FF-C-C\">的</span> <span style=\"background-color: #DFDFFF\">笑い</span> <span style=\"background-color: #FFFFFF\">っぱなし</span>"
            ]
          },
          "metadata": {}
        }
      ],
      "source": [
        "show_lr_explaination(1)"
      ]
    },
    {
      "cell_type": "code",
      "execution_count": 11,
      "id": "09dfe7c7-3d55-494e-9c34-4ebb63769718",
      "metadata": {
        "tags": [],
        "id": "09dfe7c7-3d55-494e-9c34-4ebb63769718",
        "outputId": "0f3ca80a-a0b4-41db-d47c-bf4510229f9a",
        "colab": {
          "base_uri": "https://localhost:8080/",
          "height": 34
        }
      },
      "outputs": [
        {
          "output_type": "display_data",
          "data": {
            "text/plain": [
              "<IPython.core.display.HTML object>"
            ],
            "text/html": [
              "<span style=\"background-color: #FFD1D1\">音楽</span> <span style=\"background-color: #A8A8FF\">映画</span> <span style=\"background-color: #FFFFFF\">合っ</span> <span style=\"background-color: #FFFFFF\">おら</span> <span style=\"background-color: #A4A4FF\">不快</span>"
            ]
          },
          "metadata": {}
        }
      ],
      "source": [
        "show_lr_explaination(2)"
      ]
    },
    {
      "cell_type": "code",
      "execution_count": 12,
      "id": "d294f76d-9b74-4ff2-9450-d973717a1023",
      "metadata": {
        "tags": [],
        "id": "d294f76d-9b74-4ff2-9450-d973717a1023",
        "outputId": "3d10f91e-a18d-49a2-962c-901f75d32187",
        "colab": {
          "base_uri": "https://localhost:8080/",
          "height": 34
        }
      },
      "outputs": [
        {
          "output_type": "display_data",
          "data": {
            "text/plain": [
              "<IPython.core.display.HTML object>"
            ],
            "text/html": [
              "<span style=\"background-color: #9090FF\">つまらなかっ</span> <span style=\"background-color: #AFAFFF\">ストーリー</span> <span style=\"background-color: #3737FF\">退屈</span> <span style=\"background-color: #7979FF\">期待</span> <span style=\"background-color: #FFFFFF\">はずれ</span>"
            ]
          },
          "metadata": {}
        }
      ],
      "source": [
        "show_lr_explaination(3)"
      ]
    },
    {
      "cell_type": "code",
      "source": [
        "!pip install gradio"
      ],
      "metadata": {
        "id": "RMbT19_cyW1S",
        "colab": {
          "base_uri": "https://localhost:8080/"
        },
        "outputId": "0f7af914-ba3e-4963-a607-efb82a4c7a13"
      },
      "id": "RMbT19_cyW1S",
      "execution_count": 13,
      "outputs": [
        {
          "output_type": "stream",
          "name": "stdout",
          "text": [
            "Collecting gradio\n",
            "  Downloading gradio-4.28.3-py3-none-any.whl (12.2 MB)\n",
            "\u001b[2K     \u001b[90m━━━━━━━━━━━━━━━━━━━━━━━━━━━━━━━━━━━━━━━━\u001b[0m \u001b[32m12.2/12.2 MB\u001b[0m \u001b[31m20.6 MB/s\u001b[0m eta \u001b[36m0:00:00\u001b[0m\n",
            "\u001b[?25hCollecting aiofiles<24.0,>=22.0 (from gradio)\n",
            "  Downloading aiofiles-23.2.1-py3-none-any.whl (15 kB)\n",
            "Requirement already satisfied: altair<6.0,>=4.2.0 in /usr/local/lib/python3.10/dist-packages (from gradio) (4.2.2)\n",
            "Collecting fastapi (from gradio)\n",
            "  Downloading fastapi-0.110.2-py3-none-any.whl (91 kB)\n",
            "\u001b[2K     \u001b[90m━━━━━━━━━━━━━━━━━━━━━━━━━━━━━━━━━━━━━━━━\u001b[0m \u001b[32m91.9/91.9 kB\u001b[0m \u001b[31m6.7 MB/s\u001b[0m eta \u001b[36m0:00:00\u001b[0m\n",
            "\u001b[?25hCollecting ffmpy (from gradio)\n",
            "  Downloading ffmpy-0.3.2.tar.gz (5.5 kB)\n",
            "  Preparing metadata (setup.py) ... \u001b[?25l\u001b[?25hdone\n",
            "Collecting gradio-client==0.16.0 (from gradio)\n",
            "  Downloading gradio_client-0.16.0-py3-none-any.whl (314 kB)\n",
            "\u001b[2K     \u001b[90m━━━━━━━━━━━━━━━━━━━━━━━━━━━━━━━━━━━━━━━━\u001b[0m \u001b[32m314.4/314.4 kB\u001b[0m \u001b[31m23.6 MB/s\u001b[0m eta \u001b[36m0:00:00\u001b[0m\n",
            "\u001b[?25hCollecting httpx>=0.24.1 (from gradio)\n",
            "  Downloading httpx-0.27.0-py3-none-any.whl (75 kB)\n",
            "\u001b[2K     \u001b[90m━━━━━━━━━━━━━━━━━━━━━━━━━━━━━━━━━━━━━━━━\u001b[0m \u001b[32m75.6/75.6 kB\u001b[0m \u001b[31m6.3 MB/s\u001b[0m eta \u001b[36m0:00:00\u001b[0m\n",
            "\u001b[?25hRequirement already satisfied: huggingface-hub>=0.19.3 in /usr/local/lib/python3.10/dist-packages (from gradio) (0.20.3)\n",
            "Requirement already satisfied: importlib-resources<7.0,>=1.3 in /usr/local/lib/python3.10/dist-packages (from gradio) (6.4.0)\n",
            "Requirement already satisfied: jinja2<4.0 in /usr/local/lib/python3.10/dist-packages (from gradio) (3.1.3)\n",
            "Requirement already satisfied: markupsafe~=2.0 in /usr/local/lib/python3.10/dist-packages (from gradio) (2.1.5)\n",
            "Requirement already satisfied: matplotlib~=3.0 in /usr/local/lib/python3.10/dist-packages (from gradio) (3.7.1)\n",
            "Requirement already satisfied: numpy~=1.0 in /usr/local/lib/python3.10/dist-packages (from gradio) (1.25.2)\n",
            "Collecting orjson~=3.0 (from gradio)\n",
            "  Downloading orjson-3.10.1-cp310-cp310-manylinux_2_17_x86_64.manylinux2014_x86_64.whl (141 kB)\n",
            "\u001b[2K     \u001b[90m━━━━━━━━━━━━━━━━━━━━━━━━━━━━━━━━━━━━━━━━\u001b[0m \u001b[32m141.1/141.1 kB\u001b[0m \u001b[31m11.7 MB/s\u001b[0m eta \u001b[36m0:00:00\u001b[0m\n",
            "\u001b[?25hRequirement already satisfied: packaging in /usr/local/lib/python3.10/dist-packages (from gradio) (24.0)\n",
            "Requirement already satisfied: pandas<3.0,>=1.0 in /usr/local/lib/python3.10/dist-packages (from gradio) (2.0.3)\n",
            "Requirement already satisfied: pillow<11.0,>=8.0 in /usr/local/lib/python3.10/dist-packages (from gradio) (9.4.0)\n",
            "Requirement already satisfied: pydantic>=2.0 in /usr/local/lib/python3.10/dist-packages (from gradio) (2.7.0)\n",
            "Collecting pydub (from gradio)\n",
            "  Downloading pydub-0.25.1-py2.py3-none-any.whl (32 kB)\n",
            "Collecting python-multipart>=0.0.9 (from gradio)\n",
            "  Downloading python_multipart-0.0.9-py3-none-any.whl (22 kB)\n",
            "Requirement already satisfied: pyyaml<7.0,>=5.0 in /usr/local/lib/python3.10/dist-packages (from gradio) (6.0.1)\n",
            "Collecting ruff>=0.2.2 (from gradio)\n",
            "  Downloading ruff-0.4.2-py3-none-manylinux_2_17_x86_64.manylinux2014_x86_64.whl (8.8 MB)\n",
            "\u001b[2K     \u001b[90m━━━━━━━━━━━━━━━━━━━━━━━━━━━━━━━━━━━━━━━━\u001b[0m \u001b[32m8.8/8.8 MB\u001b[0m \u001b[31m36.8 MB/s\u001b[0m eta \u001b[36m0:00:00\u001b[0m\n",
            "\u001b[?25hCollecting semantic-version~=2.0 (from gradio)\n",
            "  Downloading semantic_version-2.10.0-py2.py3-none-any.whl (15 kB)\n",
            "Collecting tomlkit==0.12.0 (from gradio)\n",
            "  Downloading tomlkit-0.12.0-py3-none-any.whl (37 kB)\n",
            "Collecting typer<1.0,>=0.12 (from gradio)\n",
            "  Downloading typer-0.12.3-py3-none-any.whl (47 kB)\n",
            "\u001b[2K     \u001b[90m━━━━━━━━━━━━━━━━━━━━━━━━━━━━━━━━━━━━━━━━\u001b[0m \u001b[32m47.2/47.2 kB\u001b[0m \u001b[31m2.8 MB/s\u001b[0m eta \u001b[36m0:00:00\u001b[0m\n",
            "\u001b[?25hRequirement already satisfied: typing-extensions~=4.0 in /usr/local/lib/python3.10/dist-packages (from gradio) (4.11.0)\n",
            "Requirement already satisfied: urllib3~=2.0 in /usr/local/lib/python3.10/dist-packages (from gradio) (2.0.7)\n",
            "Collecting uvicorn>=0.14.0 (from gradio)\n",
            "  Downloading uvicorn-0.29.0-py3-none-any.whl (60 kB)\n",
            "\u001b[2K     \u001b[90m━━━━━━━━━━━━━━━━━━━━━━━━━━━━━━━━━━━━━━━━\u001b[0m \u001b[32m60.8/60.8 kB\u001b[0m \u001b[31m5.7 MB/s\u001b[0m eta \u001b[36m0:00:00\u001b[0m\n",
            "\u001b[?25hRequirement already satisfied: fsspec in /usr/local/lib/python3.10/dist-packages (from gradio-client==0.16.0->gradio) (2023.6.0)\n",
            "Collecting websockets<12.0,>=10.0 (from gradio-client==0.16.0->gradio)\n",
            "  Downloading websockets-11.0.3-cp310-cp310-manylinux_2_5_x86_64.manylinux1_x86_64.manylinux_2_17_x86_64.manylinux2014_x86_64.whl (129 kB)\n",
            "\u001b[2K     \u001b[90m━━━━━━━━━━━━━━━━━━━━━━━━━━━━━━━━━━━━━━━━\u001b[0m \u001b[32m129.9/129.9 kB\u001b[0m \u001b[31m11.4 MB/s\u001b[0m eta \u001b[36m0:00:00\u001b[0m\n",
            "\u001b[?25hRequirement already satisfied: entrypoints in /usr/local/lib/python3.10/dist-packages (from altair<6.0,>=4.2.0->gradio) (0.4)\n",
            "Requirement already satisfied: jsonschema>=3.0 in /usr/local/lib/python3.10/dist-packages (from altair<6.0,>=4.2.0->gradio) (4.19.2)\n",
            "Requirement already satisfied: toolz in /usr/local/lib/python3.10/dist-packages (from altair<6.0,>=4.2.0->gradio) (0.12.1)\n",
            "Requirement already satisfied: anyio in /usr/local/lib/python3.10/dist-packages (from httpx>=0.24.1->gradio) (3.7.1)\n",
            "Requirement already satisfied: certifi in /usr/local/lib/python3.10/dist-packages (from httpx>=0.24.1->gradio) (2024.2.2)\n",
            "Collecting httpcore==1.* (from httpx>=0.24.1->gradio)\n",
            "  Downloading httpcore-1.0.5-py3-none-any.whl (77 kB)\n",
            "\u001b[2K     \u001b[90m━━━━━━━━━━━━━━━━━━━━━━━━━━━━━━━━━━━━━━━━\u001b[0m \u001b[32m77.9/77.9 kB\u001b[0m \u001b[31m7.5 MB/s\u001b[0m eta \u001b[36m0:00:00\u001b[0m\n",
            "\u001b[?25hRequirement already satisfied: idna in /usr/local/lib/python3.10/dist-packages (from httpx>=0.24.1->gradio) (3.7)\n",
            "Requirement already satisfied: sniffio in /usr/local/lib/python3.10/dist-packages (from httpx>=0.24.1->gradio) (1.3.1)\n",
            "Collecting h11<0.15,>=0.13 (from httpcore==1.*->httpx>=0.24.1->gradio)\n",
            "  Downloading h11-0.14.0-py3-none-any.whl (58 kB)\n",
            "\u001b[2K     \u001b[90m━━━━━━━━━━━━━━━━━━━━━━━━━━━━━━━━━━━━━━━━\u001b[0m \u001b[32m58.3/58.3 kB\u001b[0m \u001b[31m5.5 MB/s\u001b[0m eta \u001b[36m0:00:00\u001b[0m\n",
            "\u001b[?25hRequirement already satisfied: filelock in /usr/local/lib/python3.10/dist-packages (from huggingface-hub>=0.19.3->gradio) (3.13.4)\n",
            "Requirement already satisfied: requests in /usr/local/lib/python3.10/dist-packages (from huggingface-hub>=0.19.3->gradio) (2.31.0)\n",
            "Requirement already satisfied: tqdm>=4.42.1 in /usr/local/lib/python3.10/dist-packages (from huggingface-hub>=0.19.3->gradio) (4.66.2)\n",
            "Requirement already satisfied: contourpy>=1.0.1 in /usr/local/lib/python3.10/dist-packages (from matplotlib~=3.0->gradio) (1.2.1)\n",
            "Requirement already satisfied: cycler>=0.10 in /usr/local/lib/python3.10/dist-packages (from matplotlib~=3.0->gradio) (0.12.1)\n",
            "Requirement already satisfied: fonttools>=4.22.0 in /usr/local/lib/python3.10/dist-packages (from matplotlib~=3.0->gradio) (4.51.0)\n",
            "Requirement already satisfied: kiwisolver>=1.0.1 in /usr/local/lib/python3.10/dist-packages (from matplotlib~=3.0->gradio) (1.4.5)\n",
            "Requirement already satisfied: pyparsing>=2.3.1 in /usr/local/lib/python3.10/dist-packages (from matplotlib~=3.0->gradio) (3.1.2)\n",
            "Requirement already satisfied: python-dateutil>=2.7 in /usr/local/lib/python3.10/dist-packages (from matplotlib~=3.0->gradio) (2.8.2)\n",
            "Requirement already satisfied: pytz>=2020.1 in /usr/local/lib/python3.10/dist-packages (from pandas<3.0,>=1.0->gradio) (2023.4)\n",
            "Requirement already satisfied: tzdata>=2022.1 in /usr/local/lib/python3.10/dist-packages (from pandas<3.0,>=1.0->gradio) (2024.1)\n",
            "Requirement already satisfied: annotated-types>=0.4.0 in /usr/local/lib/python3.10/dist-packages (from pydantic>=2.0->gradio) (0.6.0)\n",
            "Requirement already satisfied: pydantic-core==2.18.1 in /usr/local/lib/python3.10/dist-packages (from pydantic>=2.0->gradio) (2.18.1)\n",
            "Requirement already satisfied: click>=8.0.0 in /usr/local/lib/python3.10/dist-packages (from typer<1.0,>=0.12->gradio) (8.1.7)\n",
            "Collecting shellingham>=1.3.0 (from typer<1.0,>=0.12->gradio)\n",
            "  Downloading shellingham-1.5.4-py2.py3-none-any.whl (9.8 kB)\n",
            "Requirement already satisfied: rich>=10.11.0 in /usr/local/lib/python3.10/dist-packages (from typer<1.0,>=0.12->gradio) (13.7.1)\n",
            "Collecting starlette<0.38.0,>=0.37.2 (from fastapi->gradio)\n",
            "  Downloading starlette-0.37.2-py3-none-any.whl (71 kB)\n",
            "\u001b[2K     \u001b[90m━━━━━━━━━━━━━━━━━━━━━━━━━━━━━━━━━━━━━━━━\u001b[0m \u001b[32m71.9/71.9 kB\u001b[0m \u001b[31m7.8 MB/s\u001b[0m eta \u001b[36m0:00:00\u001b[0m\n",
            "\u001b[?25hRequirement already satisfied: attrs>=22.2.0 in /usr/local/lib/python3.10/dist-packages (from jsonschema>=3.0->altair<6.0,>=4.2.0->gradio) (23.2.0)\n",
            "Requirement already satisfied: jsonschema-specifications>=2023.03.6 in /usr/local/lib/python3.10/dist-packages (from jsonschema>=3.0->altair<6.0,>=4.2.0->gradio) (2023.12.1)\n",
            "Requirement already satisfied: referencing>=0.28.4 in /usr/local/lib/python3.10/dist-packages (from jsonschema>=3.0->altair<6.0,>=4.2.0->gradio) (0.34.0)\n",
            "Requirement already satisfied: rpds-py>=0.7.1 in /usr/local/lib/python3.10/dist-packages (from jsonschema>=3.0->altair<6.0,>=4.2.0->gradio) (0.18.0)\n",
            "Requirement already satisfied: six>=1.5 in /usr/local/lib/python3.10/dist-packages (from python-dateutil>=2.7->matplotlib~=3.0->gradio) (1.16.0)\n",
            "Requirement already satisfied: markdown-it-py>=2.2.0 in /usr/local/lib/python3.10/dist-packages (from rich>=10.11.0->typer<1.0,>=0.12->gradio) (3.0.0)\n",
            "Requirement already satisfied: pygments<3.0.0,>=2.13.0 in /usr/local/lib/python3.10/dist-packages (from rich>=10.11.0->typer<1.0,>=0.12->gradio) (2.16.1)\n",
            "Requirement already satisfied: exceptiongroup in /usr/local/lib/python3.10/dist-packages (from anyio->httpx>=0.24.1->gradio) (1.2.1)\n",
            "Requirement already satisfied: charset-normalizer<4,>=2 in /usr/local/lib/python3.10/dist-packages (from requests->huggingface-hub>=0.19.3->gradio) (3.3.2)\n",
            "Requirement already satisfied: mdurl~=0.1 in /usr/local/lib/python3.10/dist-packages (from markdown-it-py>=2.2.0->rich>=10.11.0->typer<1.0,>=0.12->gradio) (0.1.2)\n",
            "Building wheels for collected packages: ffmpy\n",
            "  Building wheel for ffmpy (setup.py) ... \u001b[?25l\u001b[?25hdone\n",
            "  Created wheel for ffmpy: filename=ffmpy-0.3.2-py3-none-any.whl size=5584 sha256=9a0ad07e1313f53adb8d5fba9df45af9bf6dc1da78730610e17352d84346a330\n",
            "  Stored in directory: /root/.cache/pip/wheels/bd/65/9a/671fc6dcde07d4418df0c592f8df512b26d7a0029c2a23dd81\n",
            "Successfully built ffmpy\n",
            "Installing collected packages: pydub, ffmpy, websockets, tomlkit, shellingham, semantic-version, ruff, python-multipart, orjson, h11, aiofiles, uvicorn, starlette, httpcore, typer, httpx, fastapi, gradio-client, gradio\n",
            "  Attempting uninstall: typer\n",
            "    Found existing installation: typer 0.9.4\n",
            "    Uninstalling typer-0.9.4:\n",
            "      Successfully uninstalled typer-0.9.4\n",
            "\u001b[31mERROR: pip's dependency resolver does not currently take into account all the packages that are installed. This behaviour is the source of the following dependency conflicts.\n",
            "spacy 3.7.4 requires typer<0.10.0,>=0.3.0, but you have typer 0.12.3 which is incompatible.\n",
            "weasel 0.3.4 requires typer<0.10.0,>=0.3.0, but you have typer 0.12.3 which is incompatible.\u001b[0m\u001b[31m\n",
            "\u001b[0mSuccessfully installed aiofiles-23.2.1 fastapi-0.110.2 ffmpy-0.3.2 gradio-4.28.3 gradio-client-0.16.0 h11-0.14.0 httpcore-1.0.5 httpx-0.27.0 orjson-3.10.1 pydub-0.25.1 python-multipart-0.0.9 ruff-0.4.2 semantic-version-2.10.0 shellingham-1.5.4 starlette-0.37.2 tomlkit-0.12.0 typer-0.12.3 uvicorn-0.29.0 websockets-11.0.3\n"
          ]
        }
      ]
    },
    {
      "cell_type": "code",
      "source": [
        "import gradio as gr\n",
        "\n",
        "def greet(name):\n",
        "    return \"Hello \" + name + \"!\"\n",
        "\n",
        "demo = gr.Interface(fn=greet, inputs=\"text\", outputs=\"text\")\n",
        "\n",
        "demo.launch()"
      ],
      "metadata": {
        "colab": {
          "base_uri": "https://localhost:8080/",
          "height": 626
        },
        "id": "rfdC3jcRrOyK",
        "outputId": "a64e27c5-8092-43c8-f494-5a346652e8b4"
      },
      "id": "rfdC3jcRrOyK",
      "execution_count": 14,
      "outputs": [
        {
          "output_type": "stream",
          "name": "stdout",
          "text": [
            "Setting queue=True in a Colab notebook requires sharing enabled. Setting `share=True` (you can turn this off by setting `share=False` in `launch()` explicitly).\n",
            "\n",
            "Colab notebook detected. To show errors in colab notebook, set debug=True in launch()\n",
            "Running on public URL: https://4e7a019b7c42fbcd1a.gradio.live\n",
            "\n",
            "This share link expires in 72 hours. For free permanent hosting and GPU upgrades, run `gradio deploy` from Terminal to deploy to Spaces (https://huggingface.co/spaces)\n"
          ]
        },
        {
          "output_type": "display_data",
          "data": {
            "text/plain": [
              "<IPython.core.display.HTML object>"
            ],
            "text/html": [
              "<div><iframe src=\"https://4e7a019b7c42fbcd1a.gradio.live\" width=\"100%\" height=\"500\" allow=\"autoplay; camera; microphone; clipboard-read; clipboard-write;\" frameborder=\"0\" allowfullscreen></iframe></div>"
            ]
          },
          "metadata": {}
        },
        {
          "output_type": "execute_result",
          "data": {
            "text/plain": []
          },
          "metadata": {},
          "execution_count": 14
        }
      ]
    },
    {
      "cell_type": "markdown",
      "id": "7662a155-1c87-4e0d-ac20-23e97a800df2",
      "metadata": {
        "id": "7662a155-1c87-4e0d-ac20-23e97a800df2"
      },
      "source": [
        "## Word2vec"
      ]
    },
    {
      "cell_type": "code",
      "execution_count": 15,
      "id": "38786157-5140-4e75-8bb6-c8394d8fdafe",
      "metadata": {
        "jupyter": {
          "source_hidden": true
        },
        "tags": [],
        "id": "38786157-5140-4e75-8bb6-c8394d8fdafe",
        "colab": {
          "base_uri": "https://localhost:8080/"
        },
        "outputId": "38ba97f4-d32f-4a33-8e24-65b00f412271"
      },
      "outputs": [
        {
          "output_type": "stream",
          "name": "stderr",
          "text": [
            "WARNING:gensim.models.word2vec:Both hierarchical softmax and negative sampling are activated. This is probably a mistake. You should set either 'hs=0' or 'negative=0' to disable one of them. \n"
          ]
        }
      ],
      "source": [
        "from gensim.models import Word2Vec\n",
        "\n",
        "model = Word2Vec(\n",
        "                # [['ストーリー', '行事' ,'イベント']],\n",
        "                [janome_analyzer(''.join(sentences))],\n",
        "                sg=1,\n",
        "                vector_size=10,\n",
        "                min_count=1,\n",
        "                window=5,\n",
        "                hs=1,\n",
        "                seed=0)"
      ]
    },
    {
      "cell_type": "code",
      "execution_count": 16,
      "id": "5d3dd3d6-e1cb-48d4-bd68-627cb03b0f27",
      "metadata": {
        "collapsed": true,
        "jupyter": {
          "outputs_hidden": true,
          "source_hidden": true
        },
        "tags": [],
        "id": "5d3dd3d6-e1cb-48d4-bd68-627cb03b0f27",
        "outputId": "e529c453-9701-4a8c-99e6-9b5a7ece3370",
        "colab": {
          "base_uri": "https://localhost:8080/"
        }
      },
      "outputs": [
        {
          "output_type": "execute_result",
          "data": {
            "text/plain": [
              "[('し', 0.9279454350471497),\n",
              " ('瞬間', 0.9225526452064514),\n",
              " ('不快', 0.8891574740409851),\n",
              " ('視覚', 0.8800266981124878),\n",
              " ('キャラクター', 0.8778711557388306),\n",
              " ('演技', 0.875684380531311),\n",
              " ('感動', 0.8718224167823792),\n",
              " ('驚き', 0.8622995615005493),\n",
              " ('希望', 0.8548675775527954),\n",
              " ('絆', 0.8525833487510681)]"
            ]
          },
          "metadata": {},
          "execution_count": 16
        }
      ],
      "source": [
        "model.wv.most_similar(positive=['退屈'], topn=10)"
      ]
    },
    {
      "cell_type": "markdown",
      "id": "d89ccc95-3bb2-4542-8a60-6eb47a3fc173",
      "metadata": {
        "tags": [],
        "id": "d89ccc95-3bb2-4542-8a60-6eb47a3fc173"
      },
      "source": [
        "## Doc2vec"
      ]
    },
    {
      "cell_type": "code",
      "execution_count": 17,
      "id": "e53c2907-1402-45d7-9496-2aa4d98518e6",
      "metadata": {
        "tags": [],
        "id": "e53c2907-1402-45d7-9496-2aa4d98518e6"
      },
      "outputs": [],
      "source": [
        "import gensim\n",
        "from gensim.models.doc2vec import Doc2Vec\n",
        "from gensim.models.doc2vec import TaggedDocument\n",
        "\n",
        "documents=[]\n",
        "for stc in sentences.tolist():\n",
        "    tokens = janome_analyzer(stc)\n",
        "    documents.append(tokens)\n",
        "\n",
        "documents = [TaggedDocument(tags=[i],words=doc) for i, doc in enumerate(documents)]\n",
        "model = Doc2Vec(documents=documents, vector_size=400, window=3, min_count=1, dm=1)"
      ]
    },
    {
      "cell_type": "code",
      "execution_count": 18,
      "id": "0e22c616-d1dc-4816-9230-66e3509ee832",
      "metadata": {
        "tags": [],
        "id": "0e22c616-d1dc-4816-9230-66e3509ee832"
      },
      "outputs": [],
      "source": [
        "#データフレームにDocVectorを追記\n",
        "spam_df['DocVector'] =  [model.infer_vector(janome_analyzer(doc_words)) for doc_words in spam_df[1]]"
      ]
    },
    {
      "cell_type": "code",
      "execution_count": 19,
      "id": "8559d813-386c-4d4f-aa46-2442f549bf88",
      "metadata": {
        "tags": [],
        "id": "8559d813-386c-4d4f-aa46-2442f549bf88",
        "colab": {
          "base_uri": "https://localhost:8080/",
          "height": 141
        },
        "outputId": "02b7482b-2eb2-467e-f6d9-4eea56b47b06"
      },
      "outputs": [
        {
          "output_type": "error",
          "ename": "NameError",
          "evalue": "name 'SEED' is not defined",
          "traceback": [
            "\u001b[0;31m---------------------------------------------------------------------------\u001b[0m",
            "\u001b[0;31mNameError\u001b[0m                                 Traceback (most recent call last)",
            "\u001b[0;32m<ipython-input-19-29b87c865a56>\u001b[0m in \u001b[0;36m<cell line: 1>\u001b[0;34m()\u001b[0m\n\u001b[0;32m----> 1\u001b[0;31m \u001b[0mtrain_sentence\u001b[0m\u001b[0;34m,\u001b[0m \u001b[0mtest_sentence\u001b[0m\u001b[0;34m,\u001b[0m \u001b[0my_train\u001b[0m\u001b[0;34m,\u001b[0m \u001b[0my_test\u001b[0m \u001b[0;34m=\u001b[0m \u001b[0mtrain_test_split\u001b[0m\u001b[0;34m(\u001b[0m\u001b[0mspam_df\u001b[0m\u001b[0;34m[\u001b[0m\u001b[0;34m'DocVector'\u001b[0m\u001b[0;34m]\u001b[0m\u001b[0;34m.\u001b[0m\u001b[0mto_list\u001b[0m\u001b[0;34m(\u001b[0m\u001b[0;34m)\u001b[0m\u001b[0;34m,\u001b[0m \u001b[0mlabel_ids\u001b[0m\u001b[0;34m,\u001b[0m \u001b[0mtest_size\u001b[0m\u001b[0;34m=\u001b[0m\u001b[0;36m0.3\u001b[0m\u001b[0;34m,\u001b[0m \u001b[0mrandom_state\u001b[0m\u001b[0;34m=\u001b[0m\u001b[0mSEED\u001b[0m\u001b[0;34m,\u001b[0m \u001b[0mstratify\u001b[0m\u001b[0;34m=\u001b[0m\u001b[0mlabel_ids\u001b[0m\u001b[0;34m)\u001b[0m\u001b[0;34m\u001b[0m\u001b[0;34m\u001b[0m\u001b[0m\n\u001b[0m",
            "\u001b[0;31mNameError\u001b[0m: name 'SEED' is not defined"
          ]
        }
      ],
      "source": [
        "train_sentence, test_sentence, y_train, y_test = train_test_split(spam_df['DocVector'].to_list(), label_ids, test_size=0.3, random_state=SEED, stratify=label_ids)"
      ]
    },
    {
      "cell_type": "code",
      "execution_count": null,
      "id": "2a7b0671-05f8-48ea-a23b-31f6f14b757b",
      "metadata": {
        "tags": [],
        "id": "2a7b0671-05f8-48ea-a23b-31f6f14b757b"
      },
      "outputs": [],
      "source": [
        "import numpy as np\n",
        "X_train = np.array([np.array(v) for v in train_sentence])\n",
        "X_test = np.array([np.array(v) for v in test_sentence])"
      ]
    },
    {
      "cell_type": "code",
      "execution_count": null,
      "id": "fb515eb2-b2f1-496b-b6fc-c77a55339aaa",
      "metadata": {
        "tags": [],
        "id": "fb515eb2-b2f1-496b-b6fc-c77a55339aaa"
      },
      "outputs": [],
      "source": [
        "from sklearn.linear_model import LogisticRegression\n",
        "from sklearn.metrics import confusion_matrix\n",
        "\n",
        "lr = LogisticRegression(random_state=0, n_jobs=-1)\n",
        "lr.fit(X_train, y_train)\n",
        "\n",
        "y_pred = lr.predict(X_test)\n",
        "cm = confusion_matrix(y_test, y_pred)\n",
        "\n",
        "pd.DataFrame(cm,columns=['Predicted good', 'Predicted bad'], index=['Actual good', 'Actual bad'])"
      ]
    },
    {
      "cell_type": "code",
      "execution_count": null,
      "id": "5ee10f86-4c55-47f7-ad71-b43e7bd411ce",
      "metadata": {
        "id": "5ee10f86-4c55-47f7-ad71-b43e7bd411ce"
      },
      "outputs": [],
      "source": []
    }
  ],
  "metadata": {
    "kernelspec": {
      "display_name": "Python 3 (ipykernel)",
      "language": "python",
      "name": "python3"
    },
    "language_info": {
      "codemirror_mode": {
        "name": "ipython",
        "version": 3
      },
      "file_extension": ".py",
      "mimetype": "text/x-python",
      "name": "python",
      "nbconvert_exporter": "python",
      "pygments_lexer": "ipython3",
      "version": "3.9.17"
    },
    "colab": {
      "provenance": [],
      "toc_visible": true,
      "include_colab_link": true
    }
  },
  "nbformat": 4,
  "nbformat_minor": 5
}