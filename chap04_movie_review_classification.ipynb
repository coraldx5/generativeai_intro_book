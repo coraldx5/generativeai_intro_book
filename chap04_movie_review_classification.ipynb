{
  "cells": [
    {
      "cell_type": "markdown",
      "metadata": {
        "id": "view-in-github",
        "colab_type": "text"
      },
      "source": [
        "<a href=\"https://colab.research.google.com/github/coraldx5/generativeai_intro_book/blob/master/chap04_movie_review_classification.ipynb\" target=\"_parent\"><img src=\"https://colab.research.google.com/assets/colab-badge.svg\" alt=\"Open In Colab\"/></a>"
      ]
    },
    {
      "cell_type": "markdown",
      "id": "4892dce5-421a-4d35-b827-9413b3ab4107",
      "metadata": {
        "id": "4892dce5-421a-4d35-b827-9413b3ab4107"
      },
      "source": [
        "# 映画レビューの良し/悪しを分類するモデル"
      ]
    },
    {
      "cell_type": "code",
      "execution_count": null,
      "id": "a655d06e-1260-4083-bf2f-e57848981738",
      "metadata": {
        "tags": [],
        "colab": {
          "base_uri": "https://localhost:8080/"
        },
        "id": "a655d06e-1260-4083-bf2f-e57848981738",
        "outputId": "67ec7b8c-435e-4f4b-e86b-bbafa64cedd1"
      },
      "outputs": [
        {
          "output_type": "stream",
          "name": "stdout",
          "text": [
            "Collecting janome==0.5.0\n",
            "  Downloading Janome-0.5.0-py2.py3-none-any.whl (19.7 MB)\n",
            "\u001b[2K     \u001b[90m━━━━━━━━━━━━━━━━━━━━━━━━━━━━━━━━━━━━━━━━\u001b[0m \u001b[32m19.7/19.7 MB\u001b[0m \u001b[31m66.0 MB/s\u001b[0m eta \u001b[36m0:00:00\u001b[0m\n",
            "\u001b[?25hInstalling collected packages: janome\n",
            "Successfully installed janome-0.5.0\n"
          ]
        }
      ],
      "source": [
        "!pip install janome==0.5.0\n",
        "# PIPというライブラリ管理ツールを用いて簡単にインストールできます"
      ]
    },
    {
      "cell_type": "code",
      "source": [
        "# GithubからCSVを持ってくる\n",
        "!wget https://raw.githubusercontent.com/coraldx5/testRepo/master/movie_review_jpn.csv"
      ],
      "metadata": {
        "id": "hobh-NwDNFRE",
        "colab": {
          "base_uri": "https://localhost:8080/"
        },
        "outputId": "bdb30558-4f24-4335-927b-02654b15d615"
      },
      "id": "hobh-NwDNFRE",
      "execution_count": null,
      "outputs": [
        {
          "output_type": "stream",
          "name": "stdout",
          "text": [
            "--2024-04-24 01:10:13--  https://raw.githubusercontent.com/coraldx5/testRepo/master/movie_review_jpn.csv\n",
            "Resolving raw.githubusercontent.com (raw.githubusercontent.com)... 185.199.108.133, 185.199.109.133, 185.199.110.133, ...\n",
            "Connecting to raw.githubusercontent.com (raw.githubusercontent.com)|185.199.108.133|:443... connected.\n",
            "HTTP request sent, awaiting response... 200 OK\n",
            "Length: 7975 (7.8K) [text/plain]\n",
            "Saving to: ‘movie_review_jpn.csv’\n",
            "\n",
            "movie_review_jpn.cs 100%[===================>]   7.79K  --.-KB/s    in 0s      \n",
            "\n",
            "2024-04-24 01:10:13 (66.6 MB/s) - ‘movie_review_jpn.csv’ saved [7975/7975]\n",
            "\n"
          ]
        }
      ]
    },
    {
      "cell_type": "code",
      "execution_count": null,
      "id": "f9d1ad15-9213-44d6-8758-96a456b36b06",
      "metadata": {
        "tags": [],
        "id": "f9d1ad15-9213-44d6-8758-96a456b36b06"
      },
      "outputs": [],
      "source": [
        "from sklearn.model_selection import train_test_split\n",
        "import pandas as pd\n",
        "\n",
        "spam_df = pd.read_csv(\"movie_review_jpn.csv\", header=None)  # データの読み込み\n",
        "\n",
        "# ラベルと文章を分ける\n",
        "labels = spam_df[0].values\n",
        "sentences = spam_df[1].values\n",
        "\n",
        "label_dic = {'good': 1, 'bad': 0}\n",
        "label_dic_inv = {v: k for k, v in label_dic.items()}\n",
        "label_ids = [label_dic[i] for i in labels]\n",
        "\n",
        "# 7:3に学習データとテストデータを分割する\n",
        "train_sentence, test_sentence, y_train, y_test = train_test_split(sentences, label_ids, test_size=0.3, random_state=0, stratify=label_ids)"
      ]
    },
    {
      "cell_type": "code",
      "execution_count": null,
      "id": "161929df-af62-4201-9b16-3197af6eebb7",
      "metadata": {
        "tags": [],
        "id": "161929df-af62-4201-9b16-3197af6eebb7"
      },
      "outputs": [],
      "source": [
        "from janome.tokenizer import Tokenizer\n",
        "from janome.analyzer import Analyzer\n",
        "from janome.tokenfilter import *\n",
        "from janome.charfilter import *\n",
        "\n",
        "my_analyzer = Analyzer(char_filters=[\n",
        "                                    UnicodeNormalizeCharFilter(),\n",
        "                                    RegexReplaceCharFilter(r\"[IiⅠｉ?.*/~=()〝 <>:：《°!！!？（）-]+\", \"\")\n",
        "                                    ],\n",
        "                       tokenizer=Tokenizer(),\n",
        "                       token_filters=[POSKeepFilter([\"名詞\",\"形容詞\",\"動詞\"]), LowerCaseFilter()]\n",
        "                      )\n",
        "\n",
        "t = Tokenizer()\n",
        "def janome_analyzer(x):\n",
        "    return [token.surface for token in my_analyzer.analyze(x)]"
      ]
    },
    {
      "cell_type": "code",
      "execution_count": null,
      "id": "05d42bd6-4cb8-4f5b-8539-2ae291708ad7",
      "metadata": {
        "tags": [],
        "id": "05d42bd6-4cb8-4f5b-8539-2ae291708ad7"
      },
      "outputs": [],
      "source": [
        "from sklearn.feature_extraction.text import CountVectorizer\n",
        "from sklearn.feature_extraction.text import TfidfVectorizer\n",
        "\n",
        "vectorizer = CountVectorizer(analyzer=janome_analyzer)\n",
        "# vectorizer = TfidfVectorizer(analyzer=janome_analyzer)\n",
        "X_train = vectorizer.fit_transform(train_sentence)\n",
        "X_test = vectorizer.transform(test_sentence)"
      ]
    },
    {
      "cell_type": "code",
      "execution_count": null,
      "id": "14237137-6f5f-4e5d-83cd-d813f5eadf66",
      "metadata": {
        "tags": [],
        "id": "14237137-6f5f-4e5d-83cd-d813f5eadf66",
        "outputId": "6d5c72f5-e1cf-40d5-be05-413c3ea771fd",
        "colab": {
          "base_uri": "https://localhost:8080/"
        }
      },
      "outputs": [
        {
          "output_type": "stream",
          "name": "stdout",
          "text": [
            "   あり  い  おり  くれ  さ  させ  し  せ  たち  つまらなかっ  ...  雰囲気  非常  音楽  響く  騗  驚き  驚く  \\\n",
            "0   0  0   0   0  1   0  0  0   0       0  ...    0   0   0   0  0   0   0   \n",
            "1   0  0   0   0  1   0  0  0   0       0  ...    0   0   0   0  0   0   0   \n",
            "2   0  0   0   0  0   0  0  0   1       0  ...    0   0   0   0  0   0   0   \n",
            "3   0  0   0   0  0   0  0  0   0       0  ...    0   0   0   0  0   0   0   \n",
            "4   0  0   0   0  0   0  1  0   0       1  ...    0   0   0   0  0   0   0   \n",
            "5   0  0   0   0  0   0  0  0   0       0  ...    0   0   0   0  0   0   0   \n",
            "6   0  0   0   0  0   0  1  0   1       0  ...    0   0   0   0  0   0   0   \n",
            "7   0  0   0   0  0   0  0  0   0       0  ...    0   0   0   0  0   0   0   \n",
            "8   0  0   0   1  0   0  1  0   0       0  ...    0   0   0   0  0   0   0   \n",
            "9   0  0   0   0  1   0  0  0   0       0  ...    0   0   0   0  0   0   0   \n",
            "\n",
            "   高め  魅了  魅力  \n",
            "0   0   0   0  \n",
            "1   0   0   0  \n",
            "2   0   0   0  \n",
            "3   0   0   0  \n",
            "4   0   0   0  \n",
            "5   0   0   0  \n",
            "6   0   0   0  \n",
            "7   0   0   0  \n",
            "8   0   0   0  \n",
            "9   0   0   0  \n",
            "\n",
            "[10 rows x 167 columns]\n"
          ]
        }
      ],
      "source": [
        "#Trainの上から10件だけ可視化\n",
        "vector_array = X_train[:10].toarray()\n",
        "df = pd.DataFrame(data=vector_array,columns = vectorizer.get_feature_names_out())\n",
        "print(df)"
      ]
    },
    {
      "cell_type": "code",
      "execution_count": null,
      "id": "73171910-716a-4c24-ae07-b9276b5d073c",
      "metadata": {
        "tags": [],
        "id": "73171910-716a-4c24-ae07-b9276b5d073c",
        "outputId": "4e172b49-f77b-4cc5-f9bc-549e762edddf",
        "colab": {
          "base_uri": "https://localhost:8080/",
          "height": 112
        }
      },
      "outputs": [
        {
          "output_type": "execute_result",
          "data": {
            "text/plain": [
              "             Predicted good  Predicted bad\n",
              "Actual good              12              0\n",
              "Actual bad                2             10"
            ],
            "text/html": [
              "\n",
              "  <div id=\"df-e8070862-9ba1-4a40-bd88-8f129e6abcf6\" class=\"colab-df-container\">\n",
              "    <div>\n",
              "<style scoped>\n",
              "    .dataframe tbody tr th:only-of-type {\n",
              "        vertical-align: middle;\n",
              "    }\n",
              "\n",
              "    .dataframe tbody tr th {\n",
              "        vertical-align: top;\n",
              "    }\n",
              "\n",
              "    .dataframe thead th {\n",
              "        text-align: right;\n",
              "    }\n",
              "</style>\n",
              "<table border=\"1\" class=\"dataframe\">\n",
              "  <thead>\n",
              "    <tr style=\"text-align: right;\">\n",
              "      <th></th>\n",
              "      <th>Predicted good</th>\n",
              "      <th>Predicted bad</th>\n",
              "    </tr>\n",
              "  </thead>\n",
              "  <tbody>\n",
              "    <tr>\n",
              "      <th>Actual good</th>\n",
              "      <td>12</td>\n",
              "      <td>0</td>\n",
              "    </tr>\n",
              "    <tr>\n",
              "      <th>Actual bad</th>\n",
              "      <td>2</td>\n",
              "      <td>10</td>\n",
              "    </tr>\n",
              "  </tbody>\n",
              "</table>\n",
              "</div>\n",
              "    <div class=\"colab-df-buttons\">\n",
              "\n",
              "  <div class=\"colab-df-container\">\n",
              "    <button class=\"colab-df-convert\" onclick=\"convertToInteractive('df-e8070862-9ba1-4a40-bd88-8f129e6abcf6')\"\n",
              "            title=\"Convert this dataframe to an interactive table.\"\n",
              "            style=\"display:none;\">\n",
              "\n",
              "  <svg xmlns=\"http://www.w3.org/2000/svg\" height=\"24px\" viewBox=\"0 -960 960 960\">\n",
              "    <path d=\"M120-120v-720h720v720H120Zm60-500h600v-160H180v160Zm220 220h160v-160H400v160Zm0 220h160v-160H400v160ZM180-400h160v-160H180v160Zm440 0h160v-160H620v160ZM180-180h160v-160H180v160Zm440 0h160v-160H620v160Z\"/>\n",
              "  </svg>\n",
              "    </button>\n",
              "\n",
              "  <style>\n",
              "    .colab-df-container {\n",
              "      display:flex;\n",
              "      gap: 12px;\n",
              "    }\n",
              "\n",
              "    .colab-df-convert {\n",
              "      background-color: #E8F0FE;\n",
              "      border: none;\n",
              "      border-radius: 50%;\n",
              "      cursor: pointer;\n",
              "      display: none;\n",
              "      fill: #1967D2;\n",
              "      height: 32px;\n",
              "      padding: 0 0 0 0;\n",
              "      width: 32px;\n",
              "    }\n",
              "\n",
              "    .colab-df-convert:hover {\n",
              "      background-color: #E2EBFA;\n",
              "      box-shadow: 0px 1px 2px rgba(60, 64, 67, 0.3), 0px 1px 3px 1px rgba(60, 64, 67, 0.15);\n",
              "      fill: #174EA6;\n",
              "    }\n",
              "\n",
              "    .colab-df-buttons div {\n",
              "      margin-bottom: 4px;\n",
              "    }\n",
              "\n",
              "    [theme=dark] .colab-df-convert {\n",
              "      background-color: #3B4455;\n",
              "      fill: #D2E3FC;\n",
              "    }\n",
              "\n",
              "    [theme=dark] .colab-df-convert:hover {\n",
              "      background-color: #434B5C;\n",
              "      box-shadow: 0px 1px 3px 1px rgba(0, 0, 0, 0.15);\n",
              "      filter: drop-shadow(0px 1px 2px rgba(0, 0, 0, 0.3));\n",
              "      fill: #FFFFFF;\n",
              "    }\n",
              "  </style>\n",
              "\n",
              "    <script>\n",
              "      const buttonEl =\n",
              "        document.querySelector('#df-e8070862-9ba1-4a40-bd88-8f129e6abcf6 button.colab-df-convert');\n",
              "      buttonEl.style.display =\n",
              "        google.colab.kernel.accessAllowed ? 'block' : 'none';\n",
              "\n",
              "      async function convertToInteractive(key) {\n",
              "        const element = document.querySelector('#df-e8070862-9ba1-4a40-bd88-8f129e6abcf6');\n",
              "        const dataTable =\n",
              "          await google.colab.kernel.invokeFunction('convertToInteractive',\n",
              "                                                    [key], {});\n",
              "        if (!dataTable) return;\n",
              "\n",
              "        const docLinkHtml = 'Like what you see? Visit the ' +\n",
              "          '<a target=\"_blank\" href=https://colab.research.google.com/notebooks/data_table.ipynb>data table notebook</a>'\n",
              "          + ' to learn more about interactive tables.';\n",
              "        element.innerHTML = '';\n",
              "        dataTable['output_type'] = 'display_data';\n",
              "        await google.colab.output.renderOutput(dataTable, element);\n",
              "        const docLink = document.createElement('div');\n",
              "        docLink.innerHTML = docLinkHtml;\n",
              "        element.appendChild(docLink);\n",
              "      }\n",
              "    </script>\n",
              "  </div>\n",
              "\n",
              "\n",
              "<div id=\"df-3a54f9b3-c7aa-4574-9919-549e4671e775\">\n",
              "  <button class=\"colab-df-quickchart\" onclick=\"quickchart('df-3a54f9b3-c7aa-4574-9919-549e4671e775')\"\n",
              "            title=\"Suggest charts\"\n",
              "            style=\"display:none;\">\n",
              "\n",
              "<svg xmlns=\"http://www.w3.org/2000/svg\" height=\"24px\"viewBox=\"0 0 24 24\"\n",
              "     width=\"24px\">\n",
              "    <g>\n",
              "        <path d=\"M19 3H5c-1.1 0-2 .9-2 2v14c0 1.1.9 2 2 2h14c1.1 0 2-.9 2-2V5c0-1.1-.9-2-2-2zM9 17H7v-7h2v7zm4 0h-2V7h2v10zm4 0h-2v-4h2v4z\"/>\n",
              "    </g>\n",
              "</svg>\n",
              "  </button>\n",
              "\n",
              "<style>\n",
              "  .colab-df-quickchart {\n",
              "      --bg-color: #E8F0FE;\n",
              "      --fill-color: #1967D2;\n",
              "      --hover-bg-color: #E2EBFA;\n",
              "      --hover-fill-color: #174EA6;\n",
              "      --disabled-fill-color: #AAA;\n",
              "      --disabled-bg-color: #DDD;\n",
              "  }\n",
              "\n",
              "  [theme=dark] .colab-df-quickchart {\n",
              "      --bg-color: #3B4455;\n",
              "      --fill-color: #D2E3FC;\n",
              "      --hover-bg-color: #434B5C;\n",
              "      --hover-fill-color: #FFFFFF;\n",
              "      --disabled-bg-color: #3B4455;\n",
              "      --disabled-fill-color: #666;\n",
              "  }\n",
              "\n",
              "  .colab-df-quickchart {\n",
              "    background-color: var(--bg-color);\n",
              "    border: none;\n",
              "    border-radius: 50%;\n",
              "    cursor: pointer;\n",
              "    display: none;\n",
              "    fill: var(--fill-color);\n",
              "    height: 32px;\n",
              "    padding: 0;\n",
              "    width: 32px;\n",
              "  }\n",
              "\n",
              "  .colab-df-quickchart:hover {\n",
              "    background-color: var(--hover-bg-color);\n",
              "    box-shadow: 0 1px 2px rgba(60, 64, 67, 0.3), 0 1px 3px 1px rgba(60, 64, 67, 0.15);\n",
              "    fill: var(--button-hover-fill-color);\n",
              "  }\n",
              "\n",
              "  .colab-df-quickchart-complete:disabled,\n",
              "  .colab-df-quickchart-complete:disabled:hover {\n",
              "    background-color: var(--disabled-bg-color);\n",
              "    fill: var(--disabled-fill-color);\n",
              "    box-shadow: none;\n",
              "  }\n",
              "\n",
              "  .colab-df-spinner {\n",
              "    border: 2px solid var(--fill-color);\n",
              "    border-color: transparent;\n",
              "    border-bottom-color: var(--fill-color);\n",
              "    animation:\n",
              "      spin 1s steps(1) infinite;\n",
              "  }\n",
              "\n",
              "  @keyframes spin {\n",
              "    0% {\n",
              "      border-color: transparent;\n",
              "      border-bottom-color: var(--fill-color);\n",
              "      border-left-color: var(--fill-color);\n",
              "    }\n",
              "    20% {\n",
              "      border-color: transparent;\n",
              "      border-left-color: var(--fill-color);\n",
              "      border-top-color: var(--fill-color);\n",
              "    }\n",
              "    30% {\n",
              "      border-color: transparent;\n",
              "      border-left-color: var(--fill-color);\n",
              "      border-top-color: var(--fill-color);\n",
              "      border-right-color: var(--fill-color);\n",
              "    }\n",
              "    40% {\n",
              "      border-color: transparent;\n",
              "      border-right-color: var(--fill-color);\n",
              "      border-top-color: var(--fill-color);\n",
              "    }\n",
              "    60% {\n",
              "      border-color: transparent;\n",
              "      border-right-color: var(--fill-color);\n",
              "    }\n",
              "    80% {\n",
              "      border-color: transparent;\n",
              "      border-right-color: var(--fill-color);\n",
              "      border-bottom-color: var(--fill-color);\n",
              "    }\n",
              "    90% {\n",
              "      border-color: transparent;\n",
              "      border-bottom-color: var(--fill-color);\n",
              "    }\n",
              "  }\n",
              "</style>\n",
              "\n",
              "  <script>\n",
              "    async function quickchart(key) {\n",
              "      const quickchartButtonEl =\n",
              "        document.querySelector('#' + key + ' button');\n",
              "      quickchartButtonEl.disabled = true;  // To prevent multiple clicks.\n",
              "      quickchartButtonEl.classList.add('colab-df-spinner');\n",
              "      try {\n",
              "        const charts = await google.colab.kernel.invokeFunction(\n",
              "            'suggestCharts', [key], {});\n",
              "      } catch (error) {\n",
              "        console.error('Error during call to suggestCharts:', error);\n",
              "      }\n",
              "      quickchartButtonEl.classList.remove('colab-df-spinner');\n",
              "      quickchartButtonEl.classList.add('colab-df-quickchart-complete');\n",
              "    }\n",
              "    (() => {\n",
              "      let quickchartButtonEl =\n",
              "        document.querySelector('#df-3a54f9b3-c7aa-4574-9919-549e4671e775 button');\n",
              "      quickchartButtonEl.style.display =\n",
              "        google.colab.kernel.accessAllowed ? 'block' : 'none';\n",
              "    })();\n",
              "  </script>\n",
              "</div>\n",
              "\n",
              "    </div>\n",
              "  </div>\n"
            ]
          },
          "metadata": {},
          "execution_count": 7
        }
      ],
      "source": [
        "from sklearn.linear_model import LogisticRegression\n",
        "from sklearn.metrics import confusion_matrix\n",
        "\n",
        "lr = LogisticRegression(random_state=0, n_jobs=-1)\n",
        "lr.fit(X_train, y_train)\n",
        "\n",
        "y_pred = lr.predict(X_test)\n",
        "cm = confusion_matrix(y_test, y_pred)\n",
        "\n",
        "pd.DataFrame(cm,columns=['Predicted good', 'Predicted bad'], index=['Actual good', 'Actual bad'])"
      ]
    },
    {
      "cell_type": "code",
      "execution_count": null,
      "id": "e0114e76-281b-4b83-866c-92c94496eff5",
      "metadata": {
        "tags": [],
        "id": "e0114e76-281b-4b83-866c-92c94496eff5"
      },
      "outputs": [],
      "source": [
        "from IPython.display import display, HTML\n",
        "\n",
        "# 赤くハイライトする\n",
        "def highlight_r(word, attn):\n",
        "  html_color = '#%02X%02X%02X' % (255, int(255*(1 - attn)), int(255*(1 - attn)))\n",
        "  return '<span style=\"background-color: {}\">{}</span>'.format(html_color, word)\n",
        "\n",
        "# 青くハイライトする\n",
        "def highlight_b(word, attn):\n",
        "  html_color = '#%02X%02X%02X' % (int(255*(1 - attn)), int(255*(1 - attn)), 255)\n",
        "  return '<span style=\"background-color: {}\">{}</span>'.format(html_color, word)\n",
        "\n",
        "def show_lr_explaination(check_idx):\n",
        "    # 単語と説明変数の値の辞書\n",
        "    coef_dic = {j: i for i, j in zip(lr.coef_[0], vectorizer.get_feature_names_out())}\n",
        "\n",
        "    # 対象の文章の単語の説明変数の値を確認していく\n",
        "    texts = janome_analyzer(test_sentence[check_idx])\n",
        "    scores = []\n",
        "    for w in texts:\n",
        "        try:\n",
        "            s = coef_dic[w]\n",
        "        except KeyError:\n",
        "            s = 0  # 対象外の単語は0を割り当てる\n",
        "        scores.append(s)\n",
        "\n",
        "    # 文章をハイライトしていく\n",
        "    html_outputs = []\n",
        "    for word, attn in zip(texts, scores):\n",
        "        if attn < 0:\n",
        "            html_outputs.append(highlight_b(word, attn*-1))\n",
        "        else:\n",
        "            html_outputs.append(highlight_r(word, attn))\n",
        "\n",
        "    # 結果を表示\n",
        "    display(HTML(' '.join(html_outputs)))"
      ]
    },
    {
      "cell_type": "code",
      "execution_count": null,
      "id": "518c722e-a7d1-4187-a8a1-24652feb6027",
      "metadata": {
        "tags": [],
        "id": "518c722e-a7d1-4187-a8a1-24652feb6027",
        "outputId": "1c9f54a7-e2b4-4b3f-efb9-3666758e0440",
        "colab": {
          "base_uri": "https://localhost:8080/",
          "height": 34
        }
      },
      "outputs": [
        {
          "output_type": "display_data",
          "data": {
            "text/plain": [
              "<IPython.core.display.HTML object>"
            ],
            "text/html": [
              "<span style=\"background-color: #7979FF\">期待</span> <span style=\"background-color: #F8F8FF\">大きく</span> <span style=\"background-color: #F8F8FF\">下回り</span> <span style=\"background-color: #FFFFFF\">つまらない</span> <span style=\"background-color: #FDFDFF\">時間</span> <span style=\"background-color: #AFAFFF\">ストーリー</span> <span style=\"background-color: #ACACFF\">混乱</span> <span style=\"background-color: #FFD9D9\">し</span> <span style=\"background-color: #FFF0F0\">感動</span> <span style=\"background-color: #FF-C-C\">的</span> <span style=\"background-color: #B4B4FF\">瞬間</span> <span style=\"background-color: #DDDDFF\">皆無</span> <span style=\"background-color: #E8E8FF\">出演</span> <span style=\"background-color: #E8E8FF\">者</span> <span style=\"background-color: #EBEBFF\">演技</span> <span style=\"background-color: #7474FF\">平凡</span> <span style=\"background-color: #FFDFDF\">キャラクター</span> <span style=\"background-color: #AFAFFF\">たち</span> <span style=\"background-color: #B5B5FF\">魅力</span> <span style=\"background-color: #5E5EFF\">欠け</span>"
            ]
          },
          "metadata": {}
        }
      ],
      "source": [
        "show_lr_explaination(0)"
      ]
    },
    {
      "cell_type": "code",
      "execution_count": null,
      "id": "615dc6f5-9fb6-401e-a215-3dc9e8ba572d",
      "metadata": {
        "tags": [],
        "id": "615dc6f5-9fb6-401e-a215-3dc9e8ba572d",
        "outputId": "d7afc770-71b9-499b-c2a0-f94faebe2fa0"
      },
      "outputs": [
        {
          "data": {
            "text/html": [
              "<span style=\"background-color: #A8A8FF\">映画</span> <span style=\"background-color: #FFFFFF\">ユーモア</span> <span style=\"background-color: #B5B5FF\">魅力</span> <span style=\"background-color: #FF-C-C\">的</span> <span style=\"background-color: #DFDFFF\">笑い</span> <span style=\"background-color: #FFFFFF\">っぱなし</span>"
            ],
            "text/plain": [
              "<IPython.core.display.HTML object>"
            ]
          },
          "metadata": {},
          "output_type": "display_data"
        }
      ],
      "source": [
        "show_lr_explaination(1)"
      ]
    },
    {
      "cell_type": "code",
      "execution_count": null,
      "id": "09dfe7c7-3d55-494e-9c34-4ebb63769718",
      "metadata": {
        "tags": [],
        "id": "09dfe7c7-3d55-494e-9c34-4ebb63769718",
        "outputId": "0a435260-2662-46b6-9960-03cbe137d8bd"
      },
      "outputs": [
        {
          "data": {
            "text/html": [
              "<span style=\"background-color: #FFD1D1\">音楽</span> <span style=\"background-color: #A8A8FF\">映画</span> <span style=\"background-color: #FFFFFF\">合っ</span> <span style=\"background-color: #FFFFFF\">おら</span> <span style=\"background-color: #A4A4FF\">不快</span>"
            ],
            "text/plain": [
              "<IPython.core.display.HTML object>"
            ]
          },
          "metadata": {},
          "output_type": "display_data"
        }
      ],
      "source": [
        "show_lr_explaination(2)"
      ]
    },
    {
      "cell_type": "code",
      "execution_count": null,
      "id": "d294f76d-9b74-4ff2-9450-d973717a1023",
      "metadata": {
        "tags": [],
        "id": "d294f76d-9b74-4ff2-9450-d973717a1023",
        "outputId": "2a79ddbc-706c-4636-a580-29a29960bd3d"
      },
      "outputs": [
        {
          "data": {
            "text/html": [
              "<span style=\"background-color: #9090FF\">つまらなかっ</span> <span style=\"background-color: #AFAFFF\">ストーリー</span> <span style=\"background-color: #3737FF\">退屈</span> <span style=\"background-color: #7979FF\">期待</span> <span style=\"background-color: #FFFFFF\">はずれ</span>"
            ],
            "text/plain": [
              "<IPython.core.display.HTML object>"
            ]
          },
          "metadata": {},
          "output_type": "display_data"
        }
      ],
      "source": [
        "show_lr_explaination(3)"
      ]
    },
    {
      "cell_type": "code",
      "source": [
        "!pip install gradio"
      ],
      "metadata": {
        "id": "RMbT19_cyW1S"
      },
      "id": "RMbT19_cyW1S",
      "execution_count": null,
      "outputs": []
    },
    {
      "cell_type": "code",
      "source": [
        "import gradio as gr\n",
        "\n",
        "def greet(name):\n",
        "    return \"Hello \" + name + \"!\"\n",
        "\n",
        "demo = gr.Interface(fn=greet, inputs=\"text\", outputs=\"text\")\n",
        "\n",
        "demo.launch()"
      ],
      "metadata": {
        "colab": {
          "base_uri": "https://localhost:8080/",
          "height": 626
        },
        "id": "rfdC3jcRrOyK",
        "outputId": "e38051df-5940-4018-b9bf-5876dad7a9cb"
      },
      "id": "rfdC3jcRrOyK",
      "execution_count": null,
      "outputs": [
        {
          "output_type": "stream",
          "name": "stdout",
          "text": [
            "Setting queue=True in a Colab notebook requires sharing enabled. Setting `share=True` (you can turn this off by setting `share=False` in `launch()` explicitly).\n",
            "\n",
            "Colab notebook detected. To show errors in colab notebook, set debug=True in launch()\n",
            "Running on public URL: https://7ca2320aa32f473e15.gradio.live\n",
            "\n",
            "This share link expires in 72 hours. For free permanent hosting and GPU upgrades, run `gradio deploy` from Terminal to deploy to Spaces (https://huggingface.co/spaces)\n"
          ]
        },
        {
          "output_type": "display_data",
          "data": {
            "text/plain": [
              "<IPython.core.display.HTML object>"
            ],
            "text/html": [
              "<div><iframe src=\"https://7ca2320aa32f473e15.gradio.live\" width=\"100%\" height=\"500\" allow=\"autoplay; camera; microphone; clipboard-read; clipboard-write;\" frameborder=\"0\" allowfullscreen></iframe></div>"
            ]
          },
          "metadata": {}
        },
        {
          "output_type": "execute_result",
          "data": {
            "text/plain": []
          },
          "metadata": {},
          "execution_count": 4
        }
      ]
    },
    {
      "cell_type": "markdown",
      "id": "7662a155-1c87-4e0d-ac20-23e97a800df2",
      "metadata": {
        "id": "7662a155-1c87-4e0d-ac20-23e97a800df2"
      },
      "source": [
        "## Word2vec"
      ]
    },
    {
      "cell_type": "code",
      "execution_count": null,
      "id": "38786157-5140-4e75-8bb6-c8394d8fdafe",
      "metadata": {
        "jupyter": {
          "source_hidden": true
        },
        "tags": [],
        "id": "38786157-5140-4e75-8bb6-c8394d8fdafe"
      },
      "outputs": [],
      "source": [
        "from gensim.models import Word2Vec\n",
        "\n",
        "model = Word2Vec(\n",
        "                # [['ストーリー', '行事' ,'イベント']],\n",
        "                [janome_analyzer(''.join(sentences))],\n",
        "                sg=1,\n",
        "                vector_size=10,\n",
        "                min_count=1,\n",
        "                window=5,\n",
        "                hs=1,\n",
        "                seed=0)"
      ]
    },
    {
      "cell_type": "code",
      "execution_count": null,
      "id": "5d3dd3d6-e1cb-48d4-bd68-627cb03b0f27",
      "metadata": {
        "collapsed": true,
        "jupyter": {
          "outputs_hidden": true,
          "source_hidden": true
        },
        "tags": [],
        "id": "5d3dd3d6-e1cb-48d4-bd68-627cb03b0f27",
        "outputId": "1c88ba5f-c499-467e-ce91-1285bcaf0e8f"
      },
      "outputs": [
        {
          "data": {
            "text/plain": [
              "[('し', 0.9279454350471497),\n",
              " ('瞬間', 0.9225526452064514),\n",
              " ('不快', 0.8891575932502747),\n",
              " ('視覚', 0.8800266981124878),\n",
              " ('キャラクター', 0.8778711557388306),\n",
              " ('演技', 0.8756843209266663),\n",
              " ('感動', 0.8718223571777344),\n",
              " ('驚き', 0.8622995615005493),\n",
              " ('希望', 0.8548673987388611),\n",
              " ('絆', 0.8525833487510681)]"
            ]
          },
          "execution_count": 243,
          "metadata": {},
          "output_type": "execute_result"
        }
      ],
      "source": [
        "model.wv.most_similar(positive=['退屈'], topn=10)"
      ]
    },
    {
      "cell_type": "markdown",
      "id": "d89ccc95-3bb2-4542-8a60-6eb47a3fc173",
      "metadata": {
        "tags": [],
        "id": "d89ccc95-3bb2-4542-8a60-6eb47a3fc173"
      },
      "source": [
        "## Doc2vec"
      ]
    },
    {
      "cell_type": "code",
      "execution_count": null,
      "id": "e53c2907-1402-45d7-9496-2aa4d98518e6",
      "metadata": {
        "tags": [],
        "id": "e53c2907-1402-45d7-9496-2aa4d98518e6"
      },
      "outputs": [],
      "source": [
        "import gensim\n",
        "from gensim.models.doc2vec import Doc2Vec\n",
        "from gensim.models.doc2vec import TaggedDocument\n",
        "\n",
        "documents=[]\n",
        "for stc in sentences.tolist():\n",
        "    tokens = janome_analyzer(stc)\n",
        "    documents.append(tokens)\n",
        "\n",
        "documents = [TaggedDocument(tags=[i],words=doc) for i, doc in enumerate(documents)]\n",
        "model = Doc2Vec(documents=documents, vector_size=400, window=3, min_count=1, dm=1)"
      ]
    },
    {
      "cell_type": "code",
      "execution_count": null,
      "id": "0e22c616-d1dc-4816-9230-66e3509ee832",
      "metadata": {
        "tags": [],
        "id": "0e22c616-d1dc-4816-9230-66e3509ee832"
      },
      "outputs": [],
      "source": [
        "#データフレームにDocVectorを追記\n",
        "spam_df['DocVector'] =  [model.infer_vector(janome_analyzer(doc_words)) for doc_words in spam_df[1]]"
      ]
    },
    {
      "cell_type": "code",
      "execution_count": null,
      "id": "8559d813-386c-4d4f-aa46-2442f549bf88",
      "metadata": {
        "tags": [],
        "id": "8559d813-386c-4d4f-aa46-2442f549bf88"
      },
      "outputs": [],
      "source": [
        "train_sentence, test_sentence, y_train, y_test = train_test_split(spam_df['DocVector'].to_list(), label_ids, test_size=0.3, random_state=SEED, stratify=label_ids)"
      ]
    },
    {
      "cell_type": "code",
      "execution_count": null,
      "id": "2a7b0671-05f8-48ea-a23b-31f6f14b757b",
      "metadata": {
        "tags": [],
        "id": "2a7b0671-05f8-48ea-a23b-31f6f14b757b"
      },
      "outputs": [],
      "source": [
        "import numpy as np\n",
        "X_train = np.array([np.array(v) for v in train_sentence])\n",
        "X_test = np.array([np.array(v) for v in test_sentence])"
      ]
    },
    {
      "cell_type": "code",
      "execution_count": null,
      "id": "fb515eb2-b2f1-496b-b6fc-c77a55339aaa",
      "metadata": {
        "tags": [],
        "id": "fb515eb2-b2f1-496b-b6fc-c77a55339aaa",
        "outputId": "f6ad3aba-ac59-477b-cd56-f7fb417d4796"
      },
      "outputs": [
        {
          "data": {
            "text/html": [
              "<div>\n",
              "<style scoped>\n",
              "    .dataframe tbody tr th:only-of-type {\n",
              "        vertical-align: middle;\n",
              "    }\n",
              "\n",
              "    .dataframe tbody tr th {\n",
              "        vertical-align: top;\n",
              "    }\n",
              "\n",
              "    .dataframe thead th {\n",
              "        text-align: right;\n",
              "    }\n",
              "</style>\n",
              "<table border=\"1\" class=\"dataframe\">\n",
              "  <thead>\n",
              "    <tr style=\"text-align: right;\">\n",
              "      <th></th>\n",
              "      <th>Predicted good</th>\n",
              "      <th>Predicted bad</th>\n",
              "    </tr>\n",
              "  </thead>\n",
              "  <tbody>\n",
              "    <tr>\n",
              "      <th>Actual good</th>\n",
              "      <td>9</td>\n",
              "      <td>3</td>\n",
              "    </tr>\n",
              "    <tr>\n",
              "      <th>Actual bad</th>\n",
              "      <td>7</td>\n",
              "      <td>5</td>\n",
              "    </tr>\n",
              "  </tbody>\n",
              "</table>\n",
              "</div>"
            ],
            "text/plain": [
              "             Predicted good  Predicted bad\n",
              "Actual good               9              3\n",
              "Actual bad                7              5"
            ]
          },
          "execution_count": 439,
          "metadata": {},
          "output_type": "execute_result"
        }
      ],
      "source": [
        "from sklearn.linear_model import LogisticRegression\n",
        "from sklearn.metrics import confusion_matrix\n",
        "\n",
        "lr = LogisticRegression(random_state=0, n_jobs=-1)\n",
        "lr.fit(X_train, y_train)\n",
        "\n",
        "y_pred = lr.predict(X_test)\n",
        "cm = confusion_matrix(y_test, y_pred)\n",
        "\n",
        "pd.DataFrame(cm,columns=['Predicted good', 'Predicted bad'], index=['Actual good', 'Actual bad'])"
      ]
    },
    {
      "cell_type": "code",
      "execution_count": null,
      "id": "5ee10f86-4c55-47f7-ad71-b43e7bd411ce",
      "metadata": {
        "id": "5ee10f86-4c55-47f7-ad71-b43e7bd411ce"
      },
      "outputs": [],
      "source": []
    }
  ],
  "metadata": {
    "kernelspec": {
      "display_name": "Python 3 (ipykernel)",
      "language": "python",
      "name": "python3"
    },
    "language_info": {
      "codemirror_mode": {
        "name": "ipython",
        "version": 3
      },
      "file_extension": ".py",
      "mimetype": "text/x-python",
      "name": "python",
      "nbconvert_exporter": "python",
      "pygments_lexer": "ipython3",
      "version": "3.9.17"
    },
    "colab": {
      "provenance": [],
      "include_colab_link": true
    }
  },
  "nbformat": 4,
  "nbformat_minor": 5
}