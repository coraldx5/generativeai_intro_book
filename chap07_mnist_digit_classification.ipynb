{
  "cells": [
    {
      "cell_type": "markdown",
      "metadata": {
        "id": "view-in-github",
        "colab_type": "text"
      },
      "source": [
        "<a href=\"https://colab.research.google.com/github/coraldx5/generativeai_intro_book/blob/master/chap07_mnist_digit_classification.ipynb\" target=\"_parent\"><img src=\"https://colab.research.google.com/assets/colab-badge.svg\" alt=\"Open In Colab\"/></a>"
      ]
    },
    {
      "cell_type": "markdown",
      "id": "5b9e1248",
      "metadata": {
        "id": "5b9e1248"
      },
      "source": [
        "# 第7章：画像分類問題を解いてみよう\n",
        "- 手書きの数字を1~9に分類するモデルを作成します\n",
        "\n",
        "- 本Notebookのゴール感\n",
        "  - コードを動かしながら画像解析に対する理解を深める"
      ]
    },
    {
      "cell_type": "markdown",
      "source": [
        "## GPUが使用可能であることを確認\n",
        "- 手動で設定する場合には「ランタイム」メニュー→「ランタイムのタイプを変更」→「ハードウェア アクセラレータ」をGPU（T4 GPU、など）に設定→「保存」ボタンを押下"
      ],
      "metadata": {
        "id": "0PshvxnXQW31"
      },
      "id": "0PshvxnXQW31"
    },
    {
      "cell_type": "code",
      "source": [
        "!nvidia-smi  # ←GPUが使用可能であることを確認"
      ],
      "metadata": {
        "colab": {
          "base_uri": "https://localhost:8080/"
        },
        "id": "VS0euMzBeoLd",
        "outputId": "7975aae5-63d3-4525-bf77-2851ba4b2725"
      },
      "id": "VS0euMzBeoLd",
      "execution_count": 1,
      "outputs": [
        {
          "output_type": "stream",
          "name": "stdout",
          "text": [
            "Thu Jul 11 03:30:37 2024       \n",
            "+---------------------------------------------------------------------------------------+\n",
            "| NVIDIA-SMI 535.104.05             Driver Version: 535.104.05   CUDA Version: 12.2     |\n",
            "|-----------------------------------------+----------------------+----------------------+\n",
            "| GPU  Name                 Persistence-M | Bus-Id        Disp.A | Volatile Uncorr. ECC |\n",
            "| Fan  Temp   Perf          Pwr:Usage/Cap |         Memory-Usage | GPU-Util  Compute M. |\n",
            "|                                         |                      |               MIG M. |\n",
            "|=========================================+======================+======================|\n",
            "|   0  Tesla T4                       Off | 00000000:00:04.0 Off |                    0 |\n",
            "| N/A   62C    P8              11W /  70W |      0MiB / 15360MiB |      0%      Default |\n",
            "|                                         |                      |                  N/A |\n",
            "+-----------------------------------------+----------------------+----------------------+\n",
            "                                                                                         \n",
            "+---------------------------------------------------------------------------------------+\n",
            "| Processes:                                                                            |\n",
            "|  GPU   GI   CI        PID   Type   Process name                            GPU Memory |\n",
            "|        ID   ID                                                             Usage      |\n",
            "|=======================================================================================|\n",
            "|  No running processes found                                                           |\n",
            "+---------------------------------------------------------------------------------------+\n"
          ]
        }
      ]
    },
    {
      "cell_type": "markdown",
      "source": [
        "## ライブラリのインポート"
      ],
      "metadata": {
        "id": "pcMSfOxUQTfR"
      },
      "id": "pcMSfOxUQTfR"
    },
    {
      "cell_type": "code",
      "source": [
        "# TensorFlowライブラリをtfという別名でインポートします\n",
        "import tensorflow as tf\n",
        "\n",
        "# Kerasのインポート\n",
        "import keras\n",
        "from keras import layers\n",
        "from keras import initializers\n",
        "\n",
        "# ネットワーク（モデル）を構築するための「部品」をインポートします\n",
        "from tensorflow.keras.models import Sequential\n",
        "from tensorflow.keras.layers import Conv2D, ReLU, MaxPooling2D, Flatten, Dense\n",
        "\n",
        "# モデルの構造を可視化するためのライブラリをインポートします\n",
        "from tensorflow.keras.utils import plot_model\n",
        "\n",
        "# グラフや画像を描画するためのライブラリをインポートします\n",
        "from IPython.display import Image, display\n",
        "import matplotlib.pyplot as plt\n",
        "from sklearn.metrics import confusion_matrix\n",
        "import seaborn as sns\n",
        "import numpy as np\n",
        "import pandas as pd\n",
        "# 結果の再現性を担保するために乱数シードを固定\n",
        "keras.utils.set_random_seed(821)\n",
        "tf.config.experimental.enable_op_determinism()"
      ],
      "metadata": {
        "id": "R4Fz1NYZEHSB"
      },
      "id": "R4Fz1NYZEHSB",
      "execution_count": null,
      "outputs": []
    },
    {
      "cell_type": "markdown",
      "id": "908e64ef-cd41-425e-9dba-1798e42aedc5",
      "metadata": {
        "id": "908e64ef-cd41-425e-9dba-1798e42aedc5"
      },
      "source": [
        "## 学習に使うデータの準備"
      ]
    },
    {
      "cell_type": "markdown",
      "id": "m1-q22DgVjmG",
      "metadata": {
        "id": "m1-q22DgVjmG"
      },
      "source": [
        "### データの準備（[MNISTデータ](https://ja.wikipedia.org/wiki/MNIST%E3%83%87%E3%83%BC%E3%82%BF%E3%83%99%E3%83%BC%E3%82%B9)のダウンロード）\n",
        "\n",
        "\n",
        "- tf.keras.datasets.~を使うことで、[すでに公開されているデータセット](https://keras.io/api/datasets/)を取得することが可能です\n",
        "\n",
        "- 今回用いる数字データセット（MNIST digits classification dataset）の詳細は[こちら](https://keras.io/api/datasets/mnist/)  "
      ]
    },
    {
      "cell_type": "code",
      "execution_count": null,
      "id": "R7_Pykw4vqrC",
      "metadata": {
        "id": "R7_Pykw4vqrC"
      },
      "outputs": [],
      "source": [
        "# MNISTデータセットの読み込み\n",
        "(x_train, y_train), (x_test, y_test) = tf.keras.datasets.mnist.load_data()\n",
        "# データの正規化\n",
        "x_train = x_train / 255.0\n",
        "x_test = x_test / 255.0\n",
        "\n",
        "# データの確認\n",
        "print(\"学習用画像の形状: \", x_train.shape)\n",
        "print(\"学習用ラベルの形状: \", y_train.shape)\n",
        "print(\"検証用画像の形状: \", x_test.shape)\n",
        "print(\"検証用ラベルの形状: \", y_test.shape)\n",
        "\n",
        "# データの可視化\n",
        "def plot_sample_images(images, labels, num_samples):\n",
        "    plt.figure(figsize=(12, 2))\n",
        "    for i in range(num_samples):\n",
        "        plt.subplot(1, num_samples, i + 1)\n",
        "        plt.imshow(images[i], cmap='gray')\n",
        "        plt.title(f\"Label: {labels[i]}\")\n",
        "        plt.axis('off')\n",
        "    plt.show()\n",
        "\n",
        "# 学習用データから5個のサンプルを表示\n",
        "plot_sample_images(x_train, y_train, num_samples=5)\n",
        "# 検証用データから5個のサンプルを表示\n",
        "plot_sample_images(x_test, y_test, num_samples=5)"
      ]
    },
    {
      "cell_type": "markdown",
      "source": [
        "### 学習用/検証用データに含まれる各ラベルの枚数を確認"
      ],
      "metadata": {
        "id": "rf-P4JGZUNtM"
      },
      "id": "rf-P4JGZUNtM"
    },
    {
      "cell_type": "code",
      "source": [
        "# 各ラベルの数を計算する関数\n",
        "def count_labels(y):\n",
        "    unique, counts = np.unique(y, return_counts=True)\n",
        "    return dict(zip(unique, counts))\n",
        "\n",
        "# 学習用データと検証用データのラベル数を計算\n",
        "train_label_counts = count_labels(y_train)\n",
        "test_label_counts = count_labels(y_test)\n",
        "\n",
        "# データフレームにまとめる\n",
        "df = pd.DataFrame({\n",
        "    'ラベル': list(train_label_counts.keys()),\n",
        "    '学習用データの数': list(train_label_counts.values()),\n",
        "    '検証用データの数': [test_label_counts.get(label, 0) for label in train_label_counts.keys()]\n",
        "})\n",
        "\n",
        "# データフレームを表示\n",
        "df"
      ],
      "metadata": {
        "id": "bTcsmA0y3vQw"
      },
      "id": "bTcsmA0y3vQw",
      "execution_count": null,
      "outputs": []
    },
    {
      "cell_type": "code",
      "source": [
        "# @title ## 参考：学習用/検証用データに含まれる各ラベルの枚数をグラフで確認\n",
        "import matplotlib.pyplot as plt\n",
        "df.plot.bar(x='ラベル', y=['学習用データの数','検証用データの数'], legend=False)\n",
        "plt.xlabel('Grade')\n",
        "plt.ylabel('Number of students')\n",
        "plt.xticks(rotation=0)\n",
        "plt.show()"
      ],
      "metadata": {
        "cellView": "form",
        "id": "roE0KMRwf937"
      },
      "id": "roE0KMRwf937",
      "execution_count": null,
      "outputs": []
    },
    {
      "cell_type": "markdown",
      "source": [
        "## 関数の定義"
      ],
      "metadata": {
        "id": "9cMEImAeMG6m"
      },
      "id": "9cMEImAeMG6m"
    },
    {
      "cell_type": "code",
      "source": [
        "'''\n",
        "参考：このコードセルの内容を理解する必要はありません\n",
        "'''\n",
        "# 学習曲線を描画する関数\n",
        "def plot_learning_curve(history):\n",
        "    # 学習用データと検証用データの正解率を取得\n",
        "    acc = history.history['accuracy']\n",
        "    val_acc = history.history['val_accuracy']\n",
        "    # 学習用データと検証用データの損失を取得\n",
        "    loss = history.history['loss']\n",
        "    val_loss = history.history['val_loss']\n",
        "\n",
        "    # エポック数の範囲を設定\n",
        "    epochs = range(1, len(acc) + 1)\n",
        "\n",
        "    # 正解率をプロット\n",
        "    plt.figure(figsize=(12, 4))  # グラフのサイズを設定\n",
        "    plt.subplot(1, 2, 1)  # 2つのサブプロットのうち1つ目\n",
        "    plt.plot(epochs, acc, 'bo-', label='Training accuracy')  # 学習用データの正解率をプロット\n",
        "    plt.plot(epochs, val_acc, 'ro-', label='Validation accuracy')  # 検証用データの正解率をプロット\n",
        "    plt.title('Training and validation accuracy')  # グラフのタイトル\n",
        "    plt.xlabel('Epochs')  # X軸のラベル\n",
        "    plt.ylabel('Accuracy')  # Y軸のラベル\n",
        "    plt.legend()  # 凡例を表示\n",
        "\n",
        "    # 損失をプロット\n",
        "    plt.subplot(1, 2, 2)  # 2つのサブプロットのうち2つ目\n",
        "    plt.plot(epochs, loss, 'bo-', label='Training loss')  # 学習用データの損失をプロット\n",
        "    plt.plot(epochs, val_loss, 'ro-', label='Validation loss')  # 検証用データ損失をプロット\n",
        "    plt.title('Training and validation loss')  # グラフのタイトル\n",
        "    plt.xlabel('Epochs')  # X軸のラベル\n",
        "    plt.ylabel('Loss')  # Y軸のラベル\n",
        "    plt.legend()  # 凡例を表示\n",
        "\n",
        "    plt.show()  # グラフを表示"
      ],
      "metadata": {
        "id": "k-LIfDttk8Hz"
      },
      "id": "k-LIfDttk8Hz",
      "execution_count": null,
      "outputs": []
    },
    {
      "cell_type": "markdown",
      "source": [
        "## もっとも単純なモデルを作ってみよう"
      ],
      "metadata": {
        "id": "83dQnxH6e9N0"
      },
      "id": "83dQnxH6e9N0"
    },
    {
      "cell_type": "code",
      "source": [
        "# モデルの定義\n",
        "model01 = Sequential([\n",
        "    Flatten(input_shape=(28, 28)),\n",
        "    Dense(10, activation='softmax')\n",
        "], name='model01')\n",
        "\n",
        "# モデルのサマリーを表示\n",
        "model01.summary()\n",
        "\n",
        "# モデルを可視化して画像を出力\n",
        "plot_model(model01, to_file='model01.png', show_shapes=True, show_layer_names=False)\n",
        "# 画像を表示\n",
        "display(Image(filename='model01.png'))"
      ],
      "metadata": {
        "id": "PrmKFWQ6lDA0"
      },
      "id": "PrmKFWQ6lDA0",
      "execution_count": null,
      "outputs": []
    },
    {
      "cell_type": "markdown",
      "source": [
        "### モデルのコンパイルと学習"
      ],
      "metadata": {
        "id": "563AhrmEmqU3"
      },
      "id": "563AhrmEmqU3"
    },
    {
      "cell_type": "code",
      "source": [
        "# コンパイルと学習を行う関数を定義\n",
        "def compile_and_learn(model):\n",
        "    # # 結果の再現性を担保するために乱数シードを固定\n",
        "    # keras.utils.set_random_seed(821)\n",
        "    # tf.config.experimental.enable_op_determinism()\n",
        "    # モデルをコンパイルする\n",
        "    model.compile(loss='sparse_categorical_crossentropy', optimizer='adam', metrics=['accuracy'])\n",
        "    # モデルの学習\n",
        "    history = model.fit(x_train, y_train, validation_data=(x_test, y_test), epochs=5)\n",
        "    # 学習曲線の描画\n",
        "    plot_learning_curve(history)\n",
        "    return model\n",
        "\n",
        "# コンパイルと学習を実行\n",
        "compile_and_learn(model01)"
      ],
      "metadata": {
        "id": "_jjjUhlXYlrV"
      },
      "id": "_jjjUhlXYlrV",
      "execution_count": null,
      "outputs": []
    },
    {
      "cell_type": "markdown",
      "source": [
        "### 混同行列（confusion matrix）を作成しよう"
      ],
      "metadata": {
        "id": "BaXBuYK6Xepy"
      },
      "id": "BaXBuYK6Xepy"
    },
    {
      "cell_type": "code",
      "source": [
        "# 混同行列を描画する関数\n",
        "def plot_confusion_matrix(model):\n",
        "    # 検証用データに対する予測\n",
        "    y_pred = model.predict(x_test)\n",
        "    y_pred_classes = np.argmax(y_pred, axis=1)\n",
        "    # 混同行列の作成\n",
        "    conf_matrix = confusion_matrix(y_test, y_pred_classes)\n",
        "    # 混同行列の表示\n",
        "    plt.figure(figsize=(8, 6))\n",
        "    sns.heatmap(conf_matrix, annot=True, fmt='d', cmap='Blues')\n",
        "    plt.xlabel('Predicted Label')\n",
        "    plt.ylabel('True Label')\n",
        "    plt.title('Confusion Matrix')\n",
        "    plt.show()\n",
        "\n",
        "# コンパイルと学習を実行\n",
        "plot_confusion_matrix(model01)"
      ],
      "metadata": {
        "id": "V35tp-GrXl7Z"
      },
      "id": "V35tp-GrXl7Z",
      "execution_count": null,
      "outputs": []
    },
    {
      "cell_type": "code",
      "source": [
        "# @title ## 参考：誤分類した画像を確認してみよう\n",
        "# 立体的に可視化してみよう\n",
        "正解ラベル = \"2\" # @param [0,1,2,3,4,5,6,7,8,9]\n",
        "表示数 = 5 #@param {type:\"slider\", min:5, max:20, step:1}\n",
        "\n",
        "# 予測を誤ってしまった画像を表示する関数\n",
        "def check_incorrect_predictions(model,label,numd):\n",
        "    # 検証用データに対する予測\n",
        "    y_pred = model.predict(x_test)\n",
        "    y_pred_classes = np.argmax(y_pred, axis=1)\n",
        "    # 実際のラベルが`label`で与えられたものと等しく、かつ予測が間違っている画像のインデックスを取得\n",
        "    incorrect_indices = np.where((y_test == label) & (y_pred_classes != label))[0]\n",
        "\n",
        "    # 画像を表示する\n",
        "    num_images_to_show = min(numd, len(incorrect_indices))  # 表示する画像の数を設定\n",
        "    plt.figure(figsize=(numd, 2))\n",
        "    for i, index in enumerate(incorrect_indices[:num_images_to_show]):\n",
        "        plt.subplot(1, num_images_to_show, i + 1)\n",
        "        plt.imshow(x_test[index].reshape(28, 28), cmap='gray')\n",
        "        plt.title(f\"Pred: {y_pred_classes[index]}\")\n",
        "        plt.axis('off')\n",
        "    plt.show()\n",
        "\n",
        "# 実際のラベルに対して予測が間違っている画像を表示\n",
        "check_incorrect_predictions(model01,int(正解ラベル),表示数)"
      ],
      "metadata": {
        "cellView": "form",
        "id": "IeeQmWzkvfiN"
      },
      "id": "IeeQmWzkvfiN",
      "execution_count": null,
      "outputs": []
    },
    {
      "cell_type": "markdown",
      "source": [
        "## 隠れ層を1つ追加したモデルを作ってみよう"
      ],
      "metadata": {
        "id": "hzVcxnIZ4St1"
      },
      "id": "hzVcxnIZ4St1"
    },
    {
      "cell_type": "code",
      "source": [
        "# モデルの定義\n",
        "model02 = Sequential([\n",
        "    Flatten(input_shape=(28, 28)),\n",
        "    Dense(128, activation='relu'),\n",
        "    Dense(10, activation='softmax')\n",
        "],name='model02')\n",
        "\n",
        "# モデルのサマリーを表示\n",
        "model02.summary()\n",
        "\n",
        "# モデルを可視化して画像を出力\n",
        "plot_model(model02, to_file='model02.png', show_shapes=True, show_layer_names=False)\n",
        "# 画像を表示\n",
        "display(Image(filename='model02.png'))"
      ],
      "metadata": {
        "id": "OY4hKhx2Zifn"
      },
      "id": "OY4hKhx2Zifn",
      "execution_count": null,
      "outputs": []
    },
    {
      "cell_type": "markdown",
      "source": [
        "### モデルのコンパイルと学習"
      ],
      "metadata": {
        "id": "MoEFu9Zr3b3S"
      },
      "id": "MoEFu9Zr3b3S"
    },
    {
      "cell_type": "code",
      "source": [
        "# コンパイルと学習を実行\n",
        "model02 = compile_and_learn(model02)"
      ],
      "metadata": {
        "id": "Q4Ir8UWm3ZXi"
      },
      "id": "Q4Ir8UWm3ZXi",
      "execution_count": null,
      "outputs": []
    },
    {
      "cell_type": "markdown",
      "source": [
        "### 参考：混同行列（confusion matrix）を作成しよう"
      ],
      "metadata": {
        "id": "SUlR0p4F2MsT"
      },
      "id": "SUlR0p4F2MsT"
    },
    {
      "cell_type": "code",
      "source": [
        "# コンパイルと学習を実行\n",
        "plot_confusion_matrix(model02)"
      ],
      "metadata": {
        "id": "wSJcFE_D11Of"
      },
      "id": "wSJcFE_D11Of",
      "execution_count": null,
      "outputs": []
    },
    {
      "cell_type": "code",
      "source": [
        "# @title ## 参考：誤分類した画像を確認してみよう\n",
        "# 立体的に可視化してみよう\n",
        "正解ラベル = \"3\" # @param [0,1,2,3,4,5,6,7,8,9]\n",
        "表示数 = 5 #@param {type:\"slider\", min:5, max:20, step:1}\n",
        "\n",
        "# 実際のラベルに対して予測が間違っている画像を表示\n",
        "check_incorrect_predictions(model02,int(正解ラベル),表示数)"
      ],
      "metadata": {
        "cellView": "form",
        "id": "rkvTThnM17Fd"
      },
      "id": "rkvTThnM17Fd",
      "execution_count": null,
      "outputs": []
    },
    {
      "cell_type": "markdown",
      "source": [
        "## 高度なモデルを作ってみよう"
      ],
      "metadata": {
        "id": "mi4oigP64oIs"
      },
      "id": "mi4oigP64oIs"
    },
    {
      "cell_type": "code",
      "source": [
        "# モデルの定義\n",
        "model03 = Sequential([\n",
        "    Conv2D(6, kernel_size=(2, 2), input_shape=(28, 28, 1), activation='ReLU'), #← 第一の畳み込み層\n",
        "    MaxPooling2D(pool_size=(2, 2)), #← 第一の最大値プーリング層\n",
        "    Conv2D(16, kernel_size=(2, 2), activation='ReLU'),#← 第二の畳み込み層\n",
        "    MaxPooling2D(pool_size=(2, 2)),#← 第二の最大値プーリング層\n",
        "    Flatten(),#← 全結合層\n",
        "    Dense(128, activation='relu'),\n",
        "    Dense(10, activation='softmax')\n",
        "],name='model03')\n",
        "\n",
        "# モデルのサマリーを表示\n",
        "model03.summary()\n",
        "\n",
        "# モデルを可視化して画像を出力\n",
        "plot_model(model03, to_file='model03.png', show_shapes=True, show_layer_names=False)\n",
        "# 画像を表示\n",
        "display(Image(filename='model03.png'))"
      ],
      "metadata": {
        "id": "2bvzjp7PRvzo"
      },
      "id": "2bvzjp7PRvzo",
      "execution_count": null,
      "outputs": []
    },
    {
      "cell_type": "markdown",
      "source": [
        "### モデルのコンパイルと学習"
      ],
      "metadata": {
        "id": "MRU7L9ZwAjQl"
      },
      "id": "MRU7L9ZwAjQl"
    },
    {
      "cell_type": "code",
      "source": [
        "# コンパイルと学習を実行\n",
        "model03 = compile_and_learn(model03)"
      ],
      "metadata": {
        "id": "zCjaM-txAifO"
      },
      "id": "zCjaM-txAifO",
      "execution_count": null,
      "outputs": []
    },
    {
      "cell_type": "markdown",
      "source": [
        "### 参考：混同行列（confusion matrix）を作成しよう"
      ],
      "metadata": {
        "id": "u0sSki8G3tPK"
      },
      "id": "u0sSki8G3tPK"
    },
    {
      "cell_type": "code",
      "source": [
        "# コンパイルと学習を実行\n",
        "plot_confusion_matrix(model03)"
      ],
      "metadata": {
        "id": "ThEjhZ8W2nl7"
      },
      "id": "ThEjhZ8W2nl7",
      "execution_count": null,
      "outputs": []
    },
    {
      "cell_type": "code",
      "source": [
        "# @title ## 参考：誤分類した画像を確認してみよう\n",
        "# 立体的に可視化してみよう\n",
        "正解ラベル = \"5\" # @param [0,1,2,3,4,5,6,7,8,9]\n",
        "表示数 = 5 #@param {type:\"slider\", min:5, max:20, step:1}\n",
        "\n",
        "# 実際のラベルに対して予測が間違っている画像を表示\n",
        "check_incorrect_predictions(model03,int(正解ラベル),表示数)"
      ],
      "metadata": {
        "id": "OA6allAz2rUV"
      },
      "id": "OA6allAz2rUV",
      "execution_count": null,
      "outputs": []
    },
    {
      "cell_type": "code",
      "source": [
        "# @title ## 参考：モデルの可視化を行うコード\n",
        "# ネットワーク構造を可視化するためのライブラリをインストールします\n",
        "!pip install visualkeras==0.1.0\n",
        "import visualkeras\n",
        "\n",
        "# 立体的に可視化してみよう\n",
        "model_name = \"model03\" # @param [\"model01\", \"model02\", \"model03\"]\n",
        "if model_name==\"model01\":\n",
        "    md=model01\n",
        "elif model_name==\"model02\":\n",
        "    md=model02\n",
        "elif model_name==\"model03\":\n",
        "    md=model03\n",
        "visualkeras.layered_view(md, legend=True, show_dimension=True)"
      ],
      "metadata": {
        "cellView": "form",
        "id": "IcdOxJtHR_SR"
      },
      "id": "IcdOxJtHR_SR",
      "execution_count": null,
      "outputs": []
    },
    {
      "cell_type": "markdown",
      "source": [
        "## 参考：GUIを作ってみよう"
      ],
      "metadata": {
        "id": "LDSSw_zWnDhR"
      },
      "id": "LDSSw_zWnDhR"
    },
    {
      "cell_type": "code",
      "source": [
        "!pip install gradio==4.29.0"
      ],
      "metadata": {
        "id": "M26oEil6i1yu"
      },
      "id": "M26oEil6i1yu",
      "execution_count": null,
      "outputs": []
    },
    {
      "cell_type": "code",
      "source": [
        "# @title ## 参考：GUIで手書き文字を認識しよう\n",
        "import gradio as gr\n",
        "import numpy as np\n",
        "\n",
        "model_name = \"model01\"  # @param [\"model01\", \"model02\", \"model03\"]\n",
        "if model_name == \"model01\":\n",
        "    md = model01\n",
        "elif model_name == \"model02\":\n",
        "    md = model02\n",
        "elif model_name == \"model03\":\n",
        "    md = model03\n",
        "\n",
        "# Function to resize and normalize the image\n",
        "def reshape_to_28x28(image):\n",
        "    image = tf.convert_to_tensor(image, dtype=tf.float32)\n",
        "    image = tf.expand_dims(image, axis=-1)  # Add channel dimension\n",
        "    resized_image = tf.image.resize(image, [28, 28]).numpy()\n",
        "    normalized_image = resized_image / 255.0  # Normalize the image to range [0, 1]\n",
        "    return normalized_image\n",
        "\n",
        "# Define the prediction function\n",
        "def classify(sketch):\n",
        "    image = sketch[\"composite\"]\n",
        "    grayscale_image = np.mean(image, axis=2)  # Average across RGB channels\n",
        "\n",
        "    # Resize and normalize the image\n",
        "    resized_image = reshape_to_28x28(grayscale_image)\n",
        "\n",
        "    # Convert the image to the correct shape for the model\n",
        "    reshaped_image = resized_image.reshape(1, 28, 28, 1)  # Add batch and channel dimensions\n",
        "\n",
        "    # Make predictions and convert the result to a list\n",
        "    pred = md.predict(reshaped_image).tolist()[0]\n",
        "\n",
        "    # Get the top 3 predictions\n",
        "    values, indices = tf.math.top_k(pred, k=3)\n",
        "    values = values.numpy().tolist()\n",
        "    indices = indices.numpy().tolist()\n",
        "\n",
        "    # Store confidences in a dictionary\n",
        "    confidences = {str(i): v for i, v in zip(indices, values)}\n",
        "\n",
        "    return confidences\n",
        "\n",
        "# Gradioインターフェースを作成\n",
        "gr.Interface(\n",
        "    fn=classify,\n",
        "    inputs=\"sketchpad\",\n",
        "    outputs=\"label\",\n",
        ").launch(debug=True)"
      ],
      "metadata": {
        "id": "_NBQiuX0ZlP3",
        "cellView": "form"
      },
      "id": "_NBQiuX0ZlP3",
      "execution_count": null,
      "outputs": []
    },
    {
      "cell_type": "markdown",
      "id": "650a296a-24c5-4297-ab33-75c46c2acafd",
      "metadata": {
        "id": "650a296a-24c5-4297-ab33-75c46c2acafd",
        "tags": []
      },
      "source": [
        "# モデル学習と精度評価"
      ]
    },
    {
      "cell_type": "markdown",
      "id": "6465c972-32cc-4529-a805-96aaf4a47ca9",
      "metadata": {
        "id": "6465c972-32cc-4529-a805-96aaf4a47ca9"
      },
      "source": [
        "## テストデータにおける精度評価\n",
        "\n",
        "- Accuracyを計算  \n",
        "  - Accuracyとは全体のデータ数に対して予測と正解のラベルが一致した数の割合\n",
        "- 混同行列（Confusion Matrxi）を可視化"
      ]
    },
    {
      "cell_type": "code",
      "source": [
        "all_labels, all_preds = calc_accuracy_and_show_cm(net)"
      ],
      "metadata": {
        "id": "NuY4542M0CFX"
      },
      "id": "NuY4542M0CFX",
      "execution_count": null,
      "outputs": []
    },
    {
      "cell_type": "markdown",
      "id": "5683e070-c8b1-4070-b278-7e15834612f1",
      "metadata": {
        "id": "5683e070-c8b1-4070-b278-7e15834612f1"
      },
      "source": [
        "### 誤認識した画像の確認"
      ]
    },
    {
      "cell_type": "code",
      "execution_count": null,
      "id": "6613f93e-fe11-48f0-98e6-a9ae11a331c4",
      "metadata": {
        "id": "6613f93e-fe11-48f0-98e6-a9ae11a331c4"
      },
      "outputs": [],
      "source": [
        "# 間違った画像のindex\n",
        "np.where(all_labels != all_preds)"
      ]
    },
    {
      "cell_type": "code",
      "execution_count": null,
      "id": "001cf76b-011c-4e1c-a4a4-945107b20139",
      "metadata": {
        "id": "001cf76b-011c-4e1c-a4a4-945107b20139"
      },
      "outputs": [],
      "source": [
        "# 間違った画像のindexから1つ確認\n",
        "i = 0\n",
        "idx = np.where(all_labels != all_preds)[0][i]\n",
        "plt.imshow(testset.data[idx], cmap='gray')\n",
        "print(\"Label : \", all_labels[idx])\n",
        "print(\"Pred  : \", all_preds[idx])"
      ]
    }
  ],
  "metadata": {
    "accelerator": "GPU",
    "colab": {
      "provenance": [],
      "gpuType": "T4",
      "toc_visible": true,
      "include_colab_link": true
    },
    "kernelspec": {
      "display_name": "Python 3",
      "name": "python3"
    },
    "language_info": {
      "codemirror_mode": {
        "name": "ipython",
        "version": 3
      },
      "file_extension": ".py",
      "mimetype": "text/x-python",
      "name": "python",
      "nbconvert_exporter": "python",
      "pygments_lexer": "ipython3",
      "version": "3.8.13"
    },
    "toc-autonumbering": false,
    "toc-showmarkdowntxt": false
  },
  "nbformat": 4,
  "nbformat_minor": 5
}