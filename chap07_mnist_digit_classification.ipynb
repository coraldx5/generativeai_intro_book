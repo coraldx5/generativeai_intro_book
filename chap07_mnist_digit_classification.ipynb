{
  "cells": [
    {
      "cell_type": "markdown",
      "metadata": {
        "id": "view-in-github",
        "colab_type": "text"
      },
      "source": [
        "<a href=\"https://colab.research.google.com/github/coraldx5/generativeai_intro_book/blob/master/chap07_mnist_digit_classification.ipynb\" target=\"_parent\"><img src=\"https://colab.research.google.com/assets/colab-badge.svg\" alt=\"Open In Colab\"/></a>"
      ]
    },
    {
      "cell_type": "markdown",
      "id": "5b9e1248",
      "metadata": {
        "id": "5b9e1248"
      },
      "source": [
        "# 第7章：画像分類問題を解いてみよう\n",
        "- 手書きの数字を1~9に分類するモデルを作成します\n",
        "\n",
        "- 本Notebookのゴール感\n",
        "  - コードを動かしながら画像解析に対する理解を深める"
      ]
    },
    {
      "cell_type": "markdown",
      "source": [
        "## GPUが使用可能であることを確認\n",
        "- 手動で設定する場合には「ランタイム」メニュー→「ランタイムのタイプを変更」→「ハードウェア アクセラレータ」をGPU（T4 GPU、など）に設定→「保存」ボタンを押下"
      ],
      "metadata": {
        "id": "0PshvxnXQW31"
      },
      "id": "0PshvxnXQW31"
    },
    {
      "cell_type": "code",
      "source": [
        "!nvidia-smi  # ←GPUが使用可能であることを確認"
      ],
      "metadata": {
        "colab": {
          "base_uri": "https://localhost:8080/"
        },
        "id": "VS0euMzBeoLd",
        "outputId": "36809a34-06ab-42b1-bfa0-51573219e776"
      },
      "id": "VS0euMzBeoLd",
      "execution_count": 1,
      "outputs": [
        {
          "output_type": "stream",
          "name": "stdout",
          "text": [
            "Thu Jul 11 16:27:15 2024       \n",
            "+---------------------------------------------------------------------------------------+\n",
            "| NVIDIA-SMI 535.104.05             Driver Version: 535.104.05   CUDA Version: 12.2     |\n",
            "|-----------------------------------------+----------------------+----------------------+\n",
            "| GPU  Name                 Persistence-M | Bus-Id        Disp.A | Volatile Uncorr. ECC |\n",
            "| Fan  Temp   Perf          Pwr:Usage/Cap |         Memory-Usage | GPU-Util  Compute M. |\n",
            "|                                         |                      |               MIG M. |\n",
            "|=========================================+======================+======================|\n",
            "|   0  Tesla T4                       Off | 00000000:00:04.0 Off |                    0 |\n",
            "| N/A   58C    P8              10W /  70W |      0MiB / 15360MiB |      0%      Default |\n",
            "|                                         |                      |                  N/A |\n",
            "+-----------------------------------------+----------------------+----------------------+\n",
            "                                                                                         \n",
            "+---------------------------------------------------------------------------------------+\n",
            "| Processes:                                                                            |\n",
            "|  GPU   GI   CI        PID   Type   Process name                            GPU Memory |\n",
            "|        ID   ID                                                             Usage      |\n",
            "|=======================================================================================|\n",
            "|  No running processes found                                                           |\n",
            "+---------------------------------------------------------------------------------------+\n"
          ]
        }
      ]
    },
    {
      "cell_type": "markdown",
      "source": [
        "## ライブラリのインポート"
      ],
      "metadata": {
        "id": "pcMSfOxUQTfR"
      },
      "id": "pcMSfOxUQTfR"
    },
    {
      "cell_type": "code",
      "source": [
        "# TensorFlowライブラリをtfという別名でインポートします\n",
        "import tensorflow as tf\n",
        "\n",
        "# Kerasのインポート\n",
        "import keras\n",
        "from keras import layers\n",
        "from keras import initializers\n",
        "\n",
        "# ネットワーク（モデル）を構築するための「部品」をインポートします\n",
        "from tensorflow.keras.models import Sequential\n",
        "from tensorflow.keras.layers import Conv2D, ReLU, MaxPooling2D, Flatten, Dense\n",
        "\n",
        "# モデルの構造を可視化するためのライブラリをインポートします\n",
        "from tensorflow.keras.utils import plot_model\n",
        "\n",
        "# グラフや画像を描画するためのライブラリをインポートします\n",
        "from IPython.display import Image, display\n",
        "import matplotlib.pyplot as plt\n",
        "from sklearn.metrics import confusion_matrix\n",
        "import seaborn as sns\n",
        "import numpy as np\n",
        "import pandas as pd\n",
        "# 結果の再現性を担保するために乱数シードを固定\n",
        "keras.utils.set_random_seed(821)\n",
        "tf.config.experimental.enable_op_determinism()"
      ],
      "metadata": {
        "id": "R4Fz1NYZEHSB"
      },
      "id": "R4Fz1NYZEHSB",
      "execution_count": 2,
      "outputs": []
    },
    {
      "cell_type": "markdown",
      "id": "908e64ef-cd41-425e-9dba-1798e42aedc5",
      "metadata": {
        "id": "908e64ef-cd41-425e-9dba-1798e42aedc5"
      },
      "source": [
        "## 学習に使うデータの準備"
      ]
    },
    {
      "cell_type": "markdown",
      "id": "m1-q22DgVjmG",
      "metadata": {
        "id": "m1-q22DgVjmG"
      },
      "source": [
        "### データの準備（[MNISTデータ](https://ja.wikipedia.org/wiki/MNIST%E3%83%87%E3%83%BC%E3%82%BF%E3%83%99%E3%83%BC%E3%82%B9)のダウンロード）\n",
        "\n",
        "\n",
        "- tf.keras.datasets.~を使うことで、[すでに公開されているデータセット](https://keras.io/api/datasets/)を取得することが可能です\n",
        "\n",
        "- 今回用いる数字データセット（MNIST digits classification dataset）の詳細は[こちら](https://keras.io/api/datasets/mnist/)  "
      ]
    },
    {
      "cell_type": "code",
      "execution_count": 3,
      "id": "R7_Pykw4vqrC",
      "metadata": {
        "id": "R7_Pykw4vqrC",
        "colab": {
          "base_uri": "https://localhost:8080/",
          "height": 513
        },
        "outputId": "3a415b90-d02f-4b47-9ee9-15da6d313302"
      },
      "outputs": [
        {
          "output_type": "stream",
          "name": "stdout",
          "text": [
            "Downloading data from https://storage.googleapis.com/tensorflow/tf-keras-datasets/mnist.npz\n",
            "11490434/11490434 [==============================] - 0s 0us/step\n",
            "学習用画像の形状:  (60000, 28, 28)\n",
            "学習用ラベルの形状:  (60000,)\n",
            "検証用画像の形状:  (10000, 28, 28)\n",
            "検証用ラベルの形状:  (10000,)\n"
          ]
        },
        {
          "output_type": "display_data",
          "data": {
            "text/plain": [
              "<Figure size 1200x200 with 5 Axes>"
            ],
            "image/png": "[encoded data removed]"
          },
          "metadata": {}
        },
        {
          "output_type": "display_data",
          "data": {
            "text/plain": [
              "<Figure size 1200x200 with 5 Axes>"
            ],
            "image/png": "[encoded data removed]"
          },
          "metadata": {}
        }
      ],
      "source": [
        "# MNISTデータセットの読み込み\n",
        "(x_train, y_train), (x_test, y_test) = tf.keras.datasets.mnist.load_data()\n",
        "# データの正規化\n",
        "x_train = x_train / 255.0\n",
        "x_test = x_test / 255.0\n",
        "\n",
        "# データの確認\n",
        "print(\"学習用画像の形状: \", x_train.shape)\n",
        "print(\"学習用ラベルの形状: \", y_train.shape)\n",
        "print(\"検証用画像の形状: \", x_test.shape)\n",
        "print(\"検証用ラベルの形状: \", y_test.shape)\n",
        "\n",
        "# データの可視化\n",
        "def plot_sample_images(images, labels, num_samples):\n",
        "    plt.figure(figsize=(12, 2))\n",
        "    for i in range(num_samples):\n",
        "        plt.subplot(1, num_samples, i + 1)\n",
        "        plt.imshow(images[i], cmap='gray')\n",
        "        plt.title(f\"Label: {labels[i]}\")\n",
        "        plt.axis('off')\n",
        "    plt.show()\n",
        "\n",
        "# 学習用データから5個のサンプルを表示\n",
        "plot_sample_images(x_train, y_train, num_samples=5)\n",
        "# 検証用データから5個のサンプルを表示\n",
        "plot_sample_images(x_test, y_test, num_samples=5)"
      ]
    },
    {
      "cell_type": "markdown",
      "source": [
        "### 学習用/検証用データに含まれる各ラベルの枚数を確認"
      ],
      "metadata": {
        "id": "rf-P4JGZUNtM"
      },
      "id": "rf-P4JGZUNtM"
    },
    {
      "cell_type": "code",
      "source": [
        "# 各ラベルの数を計算する関数\n",
        "def count_labels(y):\n",
        "    unique, counts = np.unique(y, return_counts=True)\n",
        "    return dict(zip(unique, counts))\n",
        "\n",
        "# 学習用データと検証用データのラベル数を計算\n",
        "train_label_counts = count_labels(y_train)\n",
        "test_label_counts = count_labels(y_test)\n",
        "\n",
        "# データフレームにまとめる\n",
        "df = pd.DataFrame({\n",
        "    'ラベル': list(train_label_counts.keys()),\n",
        "    '学習用データの数': list(train_label_counts.values()),\n",
        "    '検証用データの数': [test_label_counts.get(label, 0) for label in train_label_counts.keys()]\n",
        "})\n",
        "\n",
        "# データフレームを表示\n",
        "df"
      ],
      "metadata": {
        "colab": {
          "base_uri": "https://localhost:8080/",
          "height": 363
        },
        "id": "bTcsmA0y3vQw",
        "outputId": "1d55f38b-dfde-49d9-fb96-efe7018a2d74"
      },
      "id": "bTcsmA0y3vQw",
      "execution_count": 4,
      "outputs": [
        {
          "output_type": "execute_result",
          "data": {
            "text/plain": [
              "   ラベル  学習用データの数  検証用データの数\n",
              "0    0      5923       980\n",
              "1    1      6742      1135\n",
              "2    2      5958      1032\n",
              "3    3      6131      1010\n",
              "4    4      5842       982\n",
              "5    5      5421       892\n",
              "6    6      5918       958\n",
              "7    7      6265      1028\n",
              "8    8      5851       974\n",
              "9    9      5949      1009"
            ],
            "text/html": [
              "\n",
              "  <div id=\"df-2d4a61d6-ffa5-4915-890c-a5b118386710\" class=\"colab-df-container\">\n",
              "    <div>\n",
              "<style scoped>\n",
              "    .dataframe tbody tr th:only-of-type {\n",
              "        vertical-align: middle;\n",
              "    }\n",
              "\n",
              "    .dataframe tbody tr th {\n",
              "        vertical-align: top;\n",
              "    }\n",
              "\n",
              "    .dataframe thead th {\n",
              "        text-align: right;\n",
              "    }\n",
              "</style>\n",
              "<table border=\"1\" class=\"dataframe\">\n",
              "  <thead>\n",
              "    <tr style=\"text-align: right;\">\n",
              "      <th></th>\n",
              "      <th>ラベル</th>\n",
              "      <th>学習用データの数</th>\n",
              "      <th>検証用データの数</th>\n",
              "    </tr>\n",
              "  </thead>\n",
              "  <tbody>\n",
              "    <tr>\n",
              "      <th>0</th>\n",
              "      <td>0</td>\n",
              "      <td>5923</td>\n",
              "      <td>980</td>\n",
              "    </tr>\n",
              "    <tr>\n",
              "      <th>1</th>\n",
              "      <td>1</td>\n",
              "      <td>6742</td>\n",
              "      <td>1135</td>\n",
              "    </tr>\n",
              "    <tr>\n",
              "      <th>2</th>\n",
              "      <td>2</td>\n",
              "      <td>5958</td>\n",
              "      <td>1032</td>\n",
              "    </tr>\n",
              "    <tr>\n",
              "      <th>3</th>\n",
              "      <td>3</td>\n",
              "      <td>6131</td>\n",
              "      <td>1010</td>\n",
              "    </tr>\n",
              "    <tr>\n",
              "      <th>4</th>\n",
              "      <td>4</td>\n",
              "      <td>5842</td>\n",
              "      <td>982</td>\n",
              "    </tr>\n",
              "    <tr>\n",
              "      <th>5</th>\n",
              "      <td>5</td>\n",
              "      <td>5421</td>\n",
              "      <td>892</td>\n",
              "    </tr>\n",
              "    <tr>\n",
              "      <th>6</th>\n",
              "      <td>6</td>\n",
              "      <td>5918</td>\n",
              "      <td>958</td>\n",
              "    </tr>\n",
              "    <tr>\n",
              "      <th>7</th>\n",
              "      <td>7</td>\n",
              "      <td>6265</td>\n",
              "      <td>1028</td>\n",
              "    </tr>\n",
              "    <tr>\n",
              "      <th>8</th>\n",
              "      <td>8</td>\n",
              "      <td>5851</td>\n",
              "      <td>974</td>\n",
              "    </tr>\n",
              "    <tr>\n",
              "      <th>9</th>\n",
              "      <td>9</td>\n",
              "      <td>5949</td>\n",
              "      <td>1009</td>\n",
              "    </tr>\n",
              "  </tbody>\n",
              "</table>\n",
              "</div>\n",
              "    <div class=\"colab-df-buttons\">\n",
              "\n",
              "  <div class=\"colab-df-container\">\n",
              "    <button class=\"colab-df-convert\" onclick=\"convertToInteractive('df-2d4a61d6-ffa5-4915-890c-a5b118386710')\"\n",
              "            title=\"Convert this dataframe to an interactive table.\"\n",
              "            style=\"display:none;\">\n",
              "\n",
              "  <svg xmlns=\"http://www.w3.org/2000/svg\" height=\"24px\" viewBox=\"0 -960 960 960\">\n",
              "    <path d=\"M120-120v-720h720v720H120Zm60-500h600v-160H180v160Zm220 220h160v-160H400v160Zm0 220h160v-160H400v160ZM180-400h160v-160H180v160Zm440 0h160v-160H620v160ZM180-180h160v-160H180v160Zm440 0h160v-160H620v160Z\"/>\n",
              "  </svg>\n",
              "    </button>\n",
              "\n",
              "  <style>\n",
              "    .colab-df-container {\n",
              "      display:flex;\n",
              "      gap: 12px;\n",
              "    }\n",
              "\n",
              "    .colab-df-convert {\n",
              "      background-color: #E8F0FE;\n",
              "      border: none;\n",
              "      border-radius: 50%;\n",
              "      cursor: pointer;\n",
              "      display: none;\n",
              "      fill: #1967D2;\n",
              "      height: 32px;\n",
              "      padding: 0 0 0 0;\n",
              "      width: 32px;\n",
              "    }\n",
              "\n",
              "    .colab-df-convert:hover {\n",
              "      background-color: #E2EBFA;\n",
              "      box-shadow: 0px 1px 2px rgba(60, 64, 67, 0.3), 0px 1px 3px 1px rgba(60, 64, 67, 0.15);\n",
              "      fill: #174EA6;\n",
              "    }\n",
              "\n",
              "    .colab-df-buttons div {\n",
              "      margin-bottom: 4px;\n",
              "    }\n",
              "\n",
              "    [theme=dark] .colab-df-convert {\n",
              "      background-color: #3B4455;\n",
              "      fill: #D2E3FC;\n",
              "    }\n",
              "\n",
              "    [theme=dark] .colab-df-convert:hover {\n",
              "      background-color: #434B5C;\n",
              "      box-shadow: 0px 1px 3px 1px rgba(0, 0, 0, 0.15);\n",
              "      filter: drop-shadow(0px 1px 2px rgba(0, 0, 0, 0.3));\n",
              "      fill: #FFFFFF;\n",
              "    }\n",
              "  </style>\n",
              "\n",
              "    <script>\n",
              "      const buttonEl =\n",
              "        document.querySelector('#df-2d4a61d6-ffa5-4915-890c-a5b118386710 button.colab-df-convert');\n",
              "      buttonEl.style.display =\n",
              "        google.colab.kernel.accessAllowed ? 'block' : 'none';\n",
              "\n",
              "      async function convertToInteractive(key) {\n",
              "        const element = document.querySelector('#df-2d4a61d6-ffa5-4915-890c-a5b118386710');\n",
              "        const dataTable =\n",
              "          await google.colab.kernel.invokeFunction('convertToInteractive',\n",
              "                                                    [key], {});\n",
              "        if (!dataTable) return;\n",
              "\n",
              "        const docLinkHtml = 'Like what you see? Visit the ' +\n",
              "          '<a target=\"_blank\" href=https://colab.research.google.com/notebooks/data_table.ipynb>data table notebook</a>'\n",
              "          + ' to learn more about interactive tables.';\n",
              "        element.innerHTML = '';\n",
              "        dataTable['output_type'] = 'display_data';\n",
              "        await google.colab.output.renderOutput(dataTable, element);\n",
              "        const docLink = document.createElement('div');\n",
              "        docLink.innerHTML = docLinkHtml;\n",
              "        element.appendChild(docLink);\n",
              "      }\n",
              "    </script>\n",
              "  </div>\n",
              "\n",
              "\n",
              "<div id=\"df-3c9f1397-8790-4916-91f7-6168727ec1c6\">\n",
              "  <button class=\"colab-df-quickchart\" onclick=\"quickchart('df-3c9f1397-8790-4916-91f7-6168727ec1c6')\"\n",
              "            title=\"Suggest charts\"\n",
              "            style=\"display:none;\">\n",
              "\n",
              "<svg xmlns=\"http://www.w3.org/2000/svg\" height=\"24px\"viewBox=\"0 0 24 24\"\n",
              "     width=\"24px\">\n",
              "    <g>\n",
              "        <path d=\"M19 3H5c-1.1 0-2 .9-2 2v14c0 1.1.9 2 2 2h14c1.1 0 2-.9 2-2V5c0-1.1-.9-2-2-2zM9 17H7v-7h2v7zm4 0h-2V7h2v10zm4 0h-2v-4h2v4z\"/>\n",
              "    </g>\n",
              "</svg>\n",
              "  </button>\n",
              "\n",
              "<style>\n",
              "  .colab-df-quickchart {\n",
              "      --bg-color: #E8F0FE;\n",
              "      --fill-color: #1967D2;\n",
              "      --hover-bg-color: #E2EBFA;\n",
              "      --hover-fill-color: #174EA6;\n",
              "      --disabled-fill-color: #AAA;\n",
              "      --disabled-bg-color: #DDD;\n",
              "  }\n",
              "\n",
              "  [theme=dark] .colab-df-quickchart {\n",
              "      --bg-color: #3B4455;\n",
              "      --fill-color: #D2E3FC;\n",
              "      --hover-bg-color: #434B5C;\n",
              "      --hover-fill-color: #FFFFFF;\n",
              "      --disabled-bg-color: #3B4455;\n",
              "      --disabled-fill-color: #666;\n",
              "  }\n",
              "\n",
              "  .colab-df-quickchart {\n",
              "    background-color: var(--bg-color);\n",
              "    border: none;\n",
              "    border-radius: 50%;\n",
              "    cursor: pointer;\n",
              "    display: none;\n",
              "    fill: var(--fill-color);\n",
              "    height: 32px;\n",
              "    padding: 0;\n",
              "    width: 32px;\n",
              "  }\n",
              "\n",
              "  .colab-df-quickchart:hover {\n",
              "    background-color: var(--hover-bg-color);\n",
              "    box-shadow: 0 1px 2px rgba(60, 64, 67, 0.3), 0 1px 3px 1px rgba(60, 64, 67, 0.15);\n",
              "    fill: var(--button-hover-fill-color);\n",
              "  }\n",
              "\n",
              "  .colab-df-quickchart-complete:disabled,\n",
              "  .colab-df-quickchart-complete:disabled:hover {\n",
              "    background-color: var(--disabled-bg-color);\n",
              "    fill: var(--disabled-fill-color);\n",
              "    box-shadow: none;\n",
              "  }\n",
              "\n",
              "  .colab-df-spinner {\n",
              "    border: 2px solid var(--fill-color);\n",
              "    border-color: transparent;\n",
              "    border-bottom-color: var(--fill-color);\n",
              "    animation:\n",
              "      spin 1s steps(1) infinite;\n",
              "  }\n",
              "\n",
              "  @keyframes spin {\n",
              "    0% {\n",
              "      border-color: transparent;\n",
              "      border-bottom-color: var(--fill-color);\n",
              "      border-left-color: var(--fill-color);\n",
              "    }\n",
              "    20% {\n",
              "      border-color: transparent;\n",
              "      border-left-color: var(--fill-color);\n",
              "      border-top-color: var(--fill-color);\n",
              "    }\n",
              "    30% {\n",
              "      border-color: transparent;\n",
              "      border-left-color: var(--fill-color);\n",
              "      border-top-color: var(--fill-color);\n",
              "      border-right-color: var(--fill-color);\n",
              "    }\n",
              "    40% {\n",
              "      border-color: transparent;\n",
              "      border-right-color: var(--fill-color);\n",
              "      border-top-color: var(--fill-color);\n",
              "    }\n",
              "    60% {\n",
              "      border-color: transparent;\n",
              "      border-right-color: var(--fill-color);\n",
              "    }\n",
              "    80% {\n",
              "      border-color: transparent;\n",
              "      border-right-color: var(--fill-color);\n",
              "      border-bottom-color: var(--fill-color);\n",
              "    }\n",
              "    90% {\n",
              "      border-color: transparent;\n",
              "      border-bottom-color: var(--fill-color);\n",
              "    }\n",
              "  }\n",
              "</style>\n",
              "\n",
              "  <script>\n",
              "    async function quickchart(key) {\n",
              "      const quickchartButtonEl =\n",
              "        document.querySelector('#' + key + ' button');\n",
              "      quickchartButtonEl.disabled = true;  // To prevent multiple clicks.\n",
              "      quickchartButtonEl.classList.add('colab-df-spinner');\n",
              "      try {\n",
              "        const charts = await google.colab.kernel.invokeFunction(\n",
              "            'suggestCharts', [key], {});\n",
              "      } catch (error) {\n",
              "        console.error('Error during call to suggestCharts:', error);\n",
              "      }\n",
              "      quickchartButtonEl.classList.remove('colab-df-spinner');\n",
              "      quickchartButtonEl.classList.add('colab-df-quickchart-complete');\n",
              "    }\n",
              "    (() => {\n",
              "      let quickchartButtonEl =\n",
              "        document.querySelector('#df-3c9f1397-8790-4916-91f7-6168727ec1c6 button');\n",
              "      quickchartButtonEl.style.display =\n",
              "        google.colab.kernel.accessAllowed ? 'block' : 'none';\n",
              "    })();\n",
              "  </script>\n",
              "</div>\n",
              "\n",
              "  <div id=\"id_20604451-5241-4c0f-9ec7-4f7a1c98ab54\">\n",
              "    <style>\n",
              "      .colab-df-generate {\n",
              "        background-color: #E8F0FE;\n",
              "        border: none;\n",
              "        border-radius: 50%;\n",
              "        cursor: pointer;\n",
              "        display: none;\n",
              "        fill: #1967D2;\n",
              "        height: 32px;\n",
              "        padding: 0 0 0 0;\n",
              "        width: 32px;\n",
              "      }\n",
              "\n",
              "      .colab-df-generate:hover {\n",
              "        background-color: #E2EBFA;\n",
              "        box-shadow: 0px 1px 2px rgba(60, 64, 67, 0.3), 0px 1px 3px 1px rgba(60, 64, 67, 0.15);\n",
              "        fill: #174EA6;\n",
              "      }\n",
              "\n",
              "      [theme=dark] .colab-df-generate {\n",
              "        background-color: #3B4455;\n",
              "        fill: #D2E3FC;\n",
              "      }\n",
              "\n",
              "      [theme=dark] .colab-df-generate:hover {\n",
              "        background-color: #434B5C;\n",
              "        box-shadow: 0px 1px 3px 1px rgba(0, 0, 0, 0.15);\n",
              "        filter: drop-shadow(0px 1px 2px rgba(0, 0, 0, 0.3));\n",
              "        fill: #FFFFFF;\n",
              "      }\n",
              "    </style>\n",
              "    <button class=\"colab-df-generate\" onclick=\"generateWithVariable('df')\"\n",
              "            title=\"Generate code using this dataframe.\"\n",
              "            style=\"display:none;\">\n",
              "\n",
              "  <svg xmlns=\"http://www.w3.org/2000/svg\" height=\"24px\"viewBox=\"0 0 24 24\"\n",
              "       width=\"24px\">\n",
              "    <path d=\"M7,19H8.4L18.45,9,17,7.55,7,17.6ZM5,21V16.75L18.45,3.32a2,2,0,0,1,2.83,0l1.4,1.43a1.91,1.91,0,0,1,.58,1.4,1.91,1.91,0,0,1-.58,1.4L9.25,21ZM18.45,9,17,7.55Zm-12,3A5.31,5.31,0,0,0,4.9,8.1,5.31,5.31,0,0,0,1,6.5,5.31,5.31,0,0,0,4.9,4.9,5.31,5.31,0,0,0,6.5,1,5.31,5.31,0,0,0,8.1,4.9,5.31,5.31,0,0,0,12,6.5,5.46,5.46,0,0,0,6.5,12Z\"/>\n",
              "  </svg>\n",
              "    </button>\n",
              "    <script>\n",
              "      (() => {\n",
              "      const buttonEl =\n",
              "        document.querySelector('#id_20604451-5241-4c0f-9ec7-4f7a1c98ab54 button.colab-df-generate');\n",
              "      buttonEl.style.display =\n",
              "        google.colab.kernel.accessAllowed ? 'block' : 'none';\n",
              "\n",
              "      buttonEl.onclick = () => {\n",
              "        google.colab.notebook.generateWithVariable('df');\n",
              "      }\n",
              "      })();\n",
              "    </script>\n",
              "  </div>\n",
              "\n",
              "    </div>\n",
              "  </div>\n"
            ],
            "application/vnd.google.colaboratory.intrinsic+json": {
              "type": "dataframe",
              "variable_name": "df",
              "summary": "{\n  \"name\": \"df\",\n  \"rows\": 10,\n  \"fields\": [\n    {\n      \"column\": \"\\u30e9\\u30d9\\u30eb\",\n      \"properties\": {\n        \"dtype\": \"uint8\",\n        \"num_unique_values\": 10,\n        \"samples\": [\n          8,\n          1,\n          5\n        ],\n        \"semantic_type\": \"\",\n        \"description\": \"\"\n      }\n    },\n    {\n      \"column\": \"\\u5b66\\u7fd2\\u7528\\u30c7\\u30fc\\u30bf\\u306e\\u6570\",\n      \"properties\": {\n        \"dtype\": \"number\",\n        \"std\": 339,\n        \"min\": 5421,\n        \"max\": 6742,\n        \"num_unique_values\": 10,\n        \"samples\": [\n          5851,\n          6742,\n          5421\n        ],\n        \"semantic_type\": \"\",\n        \"description\": \"\"\n      }\n    },\n    {\n      \"column\": \"\\u691c\\u8a3c\\u7528\\u30c7\\u30fc\\u30bf\\u306e\\u6570\",\n      \"properties\": {\n        \"dtype\": \"number\",\n        \"std\": 62,\n        \"min\": 892,\n        \"max\": 1135,\n        \"num_unique_values\": 10,\n        \"samples\": [\n          974,\n          1135,\n          892\n        ],\n        \"semantic_type\": \"\",\n        \"description\": \"\"\n      }\n    }\n  ]\n}"
            }
          },
          "metadata": {},
          "execution_count": 4
        }
      ]
    },
    {
      "cell_type": "code",
      "source": [
        "# @title ## 参考：学習用/検証用データに含まれる各ラベルの枚数をグラフで確認\n",
        "import matplotlib.pyplot as plt\n",
        "df.plot.bar(x='ラベル', y=['学習用データの数','検証用データの数'], legend=False)\n",
        "plt.xlabel('Grade')\n",
        "plt.ylabel('Number of students')\n",
        "plt.xticks(rotation=0)\n",
        "plt.show()"
      ],
      "metadata": {
        "colab": {
          "base_uri": "https://localhost:8080/",
          "height": 451
        },
        "cellView": "form",
        "id": "roE0KMRwf937",
        "outputId": "362a4fc7-ea77-4512-fe74-67d43a34b7eb"
      },
      "id": "roE0KMRwf937",
      "execution_count": 5,
      "outputs": [
        {
          "output_type": "display_data",
          "data": {
            "text/plain": [
              "<Figure size 640x480 with 1 Axes>"
            ],
            "image/png": "[encoded data removed]"
          },
          "metadata": {}
        }
      ]
    },
    {
      "cell_type": "markdown",
      "source": [
        "## 関数の定義"
      ],
      "metadata": {
        "id": "9cMEImAeMG6m"
      },
      "id": "9cMEImAeMG6m"
    },
    {
      "cell_type": "code",
      "source": [
        "'''\n",
        "参考：このコードセルの内容を理解する必要はありません\n",
        "'''\n",
        "# 学習曲線を描画する関数\n",
        "def plot_learning_curve(history):\n",
        "    # 学習用データと検証用データの正解率を取得\n",
        "    acc = history.history['accuracy']\n",
        "    val_acc = history.history['val_accuracy']\n",
        "    # 学習用データと検証用データの損失を取得\n",
        "    loss = history.history['loss']\n",
        "    val_loss = history.history['val_loss']\n",
        "\n",
        "    # エポック数の範囲を設定\n",
        "    epochs = range(1, len(acc) + 1)\n",
        "\n",
        "    # 正解率をプロット\n",
        "    plt.figure(figsize=(12, 4))  # グラフのサイズを設定\n",
        "    plt.subplot(1, 2, 1)  # 2つのサブプロットのうち1つ目\n",
        "    plt.plot(epochs, acc, 'bo-', label='Training accuracy')  # 学習用データの正解率をプロット\n",
        "    plt.plot(epochs, val_acc, 'ro-', label='Validation accuracy')  # 検証用データの正解率をプロット\n",
        "    plt.title('Training and validation accuracy')  # グラフのタイトル\n",
        "    plt.xlabel('Epochs')  # X軸のラベル\n",
        "    plt.ylabel('Accuracy')  # Y軸のラベル\n",
        "    plt.legend()  # 凡例を表示\n",
        "\n",
        "    # 損失をプロット\n",
        "    plt.subplot(1, 2, 2)  # 2つのサブプロットのうち2つ目\n",
        "    plt.plot(epochs, loss, 'bo-', label='Training loss')  # 学習用データの損失をプロット\n",
        "    plt.plot(epochs, val_loss, 'ro-', label='Validation loss')  # 検証用データ損失をプロット\n",
        "    plt.title('Training and validation loss')  # グラフのタイトル\n",
        "    plt.xlabel('Epochs')  # X軸のラベル\n",
        "    plt.ylabel('Loss')  # Y軸のラベル\n",
        "    plt.legend()  # 凡例を表示\n",
        "\n",
        "    plt.show()  # グラフを表示"
      ],
      "metadata": {
        "id": "k-LIfDttk8Hz"
      },
      "id": "k-LIfDttk8Hz",
      "execution_count": 6,
      "outputs": []
    },
    {
      "cell_type": "markdown",
      "source": [
        "## もっとも単純なモデルを作ってみよう"
      ],
      "metadata": {
        "id": "83dQnxH6e9N0"
      },
      "id": "83dQnxH6e9N0"
    },
    {
      "cell_type": "code",
      "source": [
        "# モデルの定義\n",
        "model01 = Sequential([\n",
        "    Flatten(input_shape=(28, 28)),\n",
        "    Dense(10, activation='softmax')\n",
        "], name='model01')\n",
        "\n",
        "# モデルのサマリーを表示\n",
        "model01.summary()\n",
        "\n",
        "# モデルを可視化して画像を出力\n",
        "plot_model(model01, to_file='model01.png', show_shapes=True, show_layer_names=False)\n",
        "# 画像を表示\n",
        "display(Image(filename='model01.png'))"
      ],
      "metadata": {
        "colab": {
          "base_uri": "https://localhost:8080/",
          "height": 538
        },
        "id": "PrmKFWQ6lDA0",
        "outputId": "685fa059-5d08-4732-b0ac-72dbe70f3dac"
      },
      "id": "PrmKFWQ6lDA0",
      "execution_count": 7,
      "outputs": [
        {
          "output_type": "stream",
          "name": "stdout",
          "text": [
            "Model: \"model01\"\n",
            "_________________________________________________________________\n",
            " Layer (type)                Output Shape              Param #   \n",
            "=================================================================\n",
            " flatten (Flatten)           (None, 784)               0         \n",
            "                                                                 \n",
            " dense (Dense)               (None, 10)                7850      \n",
            "                                                                 \n",
            "=================================================================\n",
            "Total params: 7850 (30.66 KB)\n",
            "Trainable params: 7850 (30.66 KB)\n",
            "Non-trainable params: 0 (0.00 Byte)\n",
            "_________________________________________________________________\n"
          ]
        },
        {
          "output_type": "display_data",
          "data": {
            "image/png": "[encoded data removed]",
            "text/plain": [
              "<IPython.core.display.Image object>"
            ]
          },
          "metadata": {}
        }
      ]
    },
    {
      "cell_type": "markdown",
      "source": [
        "### モデルのコンパイルと学習"
      ],
      "metadata": {
        "id": "563AhrmEmqU3"
      },
      "id": "563AhrmEmqU3"
    },
    {
      "cell_type": "code",
      "source": [
        "# コンパイルと学習を行う関数を定義\n",
        "def compile_and_learn(model):\n",
        "    # # 結果の再現性を担保するために乱数シードを固定\n",
        "    # keras.utils.set_random_seed(821)\n",
        "    # tf.config.experimental.enable_op_determinism()\n",
        "    # モデルをコンパイルする\n",
        "    model.compile(loss='sparse_categorical_crossentropy', optimizer='adam', metrics=['accuracy'])\n",
        "    # モデルの学習\n",
        "    history = model.fit(x_train, y_train, validation_data=(x_test, y_test), epochs=5)\n",
        "    # 学習曲線の描画\n",
        "    plot_learning_curve(history)\n",
        "    return model\n",
        "\n",
        "# コンパイルと学習を実行\n",
        "compile_and_learn(model01)"
      ],
      "metadata": {
        "colab": {
          "base_uri": "https://localhost:8080/"
        },
        "id": "_jjjUhlXYlrV",
        "outputId": "6a1dd0e4-378b-47b4-c055-c158fcf4fac0"
      },
      "id": "_jjjUhlXYlrV",
      "execution_count": null,
      "outputs": [
        {
          "output_type": "stream",
          "name": "stdout",
          "text": [
            "Epoch 1/5\n",
            "1874/1875 [============================>.] - ETA: 0s - loss: 0.4671 - accuracy: 0.8782"
          ]
        }
      ]
    },
    {
      "cell_type": "markdown",
      "source": [
        "### 混同行列（confusion matrix）を作成しよう"
      ],
      "metadata": {
        "id": "BaXBuYK6Xepy"
      },
      "id": "BaXBuYK6Xepy"
    },
    {
      "cell_type": "code",
      "source": [
        "# 混同行列を描画する関数\n",
        "def plot_confusion_matrix(model):\n",
        "    # 検証用データに対する予測\n",
        "    y_pred = model.predict(x_test)\n",
        "    y_pred_classes = np.argmax(y_pred, axis=1)\n",
        "    # 混同行列の作成\n",
        "    conf_matrix = confusion_matrix(y_test, y_pred_classes)\n",
        "    # 混同行列の表示\n",
        "    plt.figure(figsize=(8, 6))\n",
        "    sns.heatmap(conf_matrix, annot=True, fmt='d', cmap='Blues')\n",
        "    plt.xlabel('Predicted Label')\n",
        "    plt.ylabel('True Label')\n",
        "    plt.title('Confusion Matrix')\n",
        "    plt.show()\n",
        "\n",
        "# コンパイルと学習を実行\n",
        "plot_confusion_matrix(model01)"
      ],
      "metadata": {
        "id": "V35tp-GrXl7Z"
      },
      "id": "V35tp-GrXl7Z",
      "execution_count": null,
      "outputs": []
    },
    {
      "cell_type": "code",
      "source": [
        "# @title ## 参考：誤分類した画像を確認してみよう\n",
        "# 立体的に可視化してみよう\n",
        "正解ラベル = \"2\" # @param [0,1,2,3,4,5,6,7,8,9]\n",
        "表示数 = 5 #@param {type:\"slider\", min:5, max:20, step:1}\n",
        "\n",
        "# 予測を誤ってしまった画像を表示する関数\n",
        "def check_incorrect_predictions(model,label,numd):\n",
        "    # 検証用データに対する予測\n",
        "    y_pred = model.predict(x_test)\n",
        "    y_pred_classes = np.argmax(y_pred, axis=1)\n",
        "    # 実際のラベルが`label`で与えられたものと等しく、かつ予測が間違っている画像のインデックスを取得\n",
        "    incorrect_indices = np.where((y_test == label) & (y_pred_classes != label))[0]\n",
        "\n",
        "    # 画像を表示する\n",
        "    num_images_to_show = min(numd, len(incorrect_indices))  # 表示する画像の数を設定\n",
        "    plt.figure(figsize=(numd, 2))\n",
        "    for i, index in enumerate(incorrect_indices[:num_images_to_show]):\n",
        "        plt.subplot(1, num_images_to_show, i + 1)\n",
        "        plt.imshow(x_test[index].reshape(28, 28), cmap='gray')\n",
        "        plt.title(f\"Pred: {y_pred_classes[index]}\")\n",
        "        plt.axis('off')\n",
        "    plt.show()\n",
        "\n",
        "# 実際のラベルに対して予測が間違っている画像を表示\n",
        "check_incorrect_predictions(model01,int(正解ラベル),表示数)"
      ],
      "metadata": {
        "cellView": "form",
        "id": "IeeQmWzkvfiN"
      },
      "id": "IeeQmWzkvfiN",
      "execution_count": null,
      "outputs": []
    },
    {
      "cell_type": "markdown",
      "source": [
        "## 隠れ層を1つ追加したモデルを作ってみよう"
      ],
      "metadata": {
        "id": "hzVcxnIZ4St1"
      },
      "id": "hzVcxnIZ4St1"
    },
    {
      "cell_type": "code",
      "source": [
        "# モデルの定義\n",
        "model02 = Sequential([\n",
        "    Flatten(input_shape=(28, 28)),\n",
        "    Dense(128, activation='relu'),\n",
        "    Dense(10, activation='softmax')\n",
        "],name='model02')\n",
        "\n",
        "# モデルのサマリーを表示\n",
        "model02.summary()\n",
        "\n",
        "# モデルを可視化して画像を出力\n",
        "plot_model(model02, to_file='model02.png', show_shapes=True, show_layer_names=False)\n",
        "# 画像を表示\n",
        "display(Image(filename='model02.png'))"
      ],
      "metadata": {
        "id": "OY4hKhx2Zifn"
      },
      "id": "OY4hKhx2Zifn",
      "execution_count": null,
      "outputs": []
    },
    {
      "cell_type": "markdown",
      "source": [
        "### モデルのコンパイルと学習"
      ],
      "metadata": {
        "id": "MoEFu9Zr3b3S"
      },
      "id": "MoEFu9Zr3b3S"
    },
    {
      "cell_type": "code",
      "source": [
        "# コンパイルと学習を実行\n",
        "compile_and_learn(model02)"
      ],
      "metadata": {
        "id": "Q4Ir8UWm3ZXi"
      },
      "id": "Q4Ir8UWm3ZXi",
      "execution_count": null,
      "outputs": []
    },
    {
      "cell_type": "markdown",
      "source": [
        "### 参考：混同行列（confusion matrix）を作成しよう"
      ],
      "metadata": {
        "id": "SUlR0p4F2MsT"
      },
      "id": "SUlR0p4F2MsT"
    },
    {
      "cell_type": "code",
      "source": [
        "# コンパイルと学習を実行\n",
        "plot_confusion_matrix(model02)"
      ],
      "metadata": {
        "id": "wSJcFE_D11Of"
      },
      "id": "wSJcFE_D11Of",
      "execution_count": null,
      "outputs": []
    },
    {
      "cell_type": "code",
      "source": [
        "# @title ## 参考：誤分類した画像を確認してみよう\n",
        "# 立体的に可視化してみよう\n",
        "正解ラベル = \"3\" # @param [0,1,2,3,4,5,6,7,8,9]\n",
        "表示数 = 5 #@param {type:\"slider\", min:5, max:20, step:1}\n",
        "\n",
        "# 実際のラベルに対して予測が間違っている画像を表示\n",
        "check_incorrect_predictions(model02,int(正解ラベル),表示数)"
      ],
      "metadata": {
        "cellView": "form",
        "id": "rkvTThnM17Fd"
      },
      "id": "rkvTThnM17Fd",
      "execution_count": null,
      "outputs": []
    },
    {
      "cell_type": "markdown",
      "source": [
        "## 高度なモデルを作ってみよう"
      ],
      "metadata": {
        "id": "mi4oigP64oIs"
      },
      "id": "mi4oigP64oIs"
    },
    {
      "cell_type": "code",
      "source": [
        "# モデルの定義\n",
        "model03 = Sequential([\n",
        "    Conv2D(6, kernel_size=(2, 2), input_shape=(28, 28, 1), activation='ReLU'), #← 第一の畳み込み層\n",
        "    MaxPooling2D(pool_size=(2, 2)), #← 第一の最大値プーリング層\n",
        "    Conv2D(16, kernel_size=(2, 2), activation='ReLU'),#← 第二の畳み込み層\n",
        "    MaxPooling2D(pool_size=(2, 2)),#← 第二の最大値プーリング層\n",
        "    Flatten(),#← 全結合層\n",
        "    Dense(128, activation='relu'),\n",
        "    Dense(10, activation='softmax')\n",
        "],name='model03')\n",
        "\n",
        "# モデルのサマリーを表示\n",
        "model03.summary()\n",
        "\n",
        "# モデルを可視化して画像を出力\n",
        "plot_model(model03, to_file='model03.png', show_shapes=True, show_layer_names=False)\n",
        "# 画像を表示\n",
        "display(Image(filename='model03.png'))"
      ],
      "metadata": {
        "id": "2bvzjp7PRvzo"
      },
      "id": "2bvzjp7PRvzo",
      "execution_count": null,
      "outputs": []
    },
    {
      "cell_type": "markdown",
      "source": [
        "### モデルのコンパイルと学習"
      ],
      "metadata": {
        "id": "MRU7L9ZwAjQl"
      },
      "id": "MRU7L9ZwAjQl"
    },
    {
      "cell_type": "code",
      "source": [
        "# コンパイルと学習を実行\n",
        "compile_and_learn(model03)"
      ],
      "metadata": {
        "id": "zCjaM-txAifO"
      },
      "id": "zCjaM-txAifO",
      "execution_count": null,
      "outputs": []
    },
    {
      "cell_type": "markdown",
      "source": [
        "### 参考：混同行列（confusion matrix）を作成しよう"
      ],
      "metadata": {
        "id": "u0sSki8G3tPK"
      },
      "id": "u0sSki8G3tPK"
    },
    {
      "cell_type": "code",
      "source": [
        "# コンパイルと学習を実行\n",
        "plot_confusion_matrix(model03)"
      ],
      "metadata": {
        "id": "ThEjhZ8W2nl7"
      },
      "id": "ThEjhZ8W2nl7",
      "execution_count": null,
      "outputs": []
    },
    {
      "cell_type": "code",
      "source": [
        "# @title ## 参考：誤分類した画像を確認してみよう\n",
        "# 立体的に可視化してみよう\n",
        "正解ラベル = \"5\" # @param [0,1,2,3,4,5,6,7,8,9]\n",
        "表示数 = 5 #@param {type:\"slider\", min:5, max:20, step:1}\n",
        "\n",
        "# 実際のラベルに対して予測が間違っている画像を表示\n",
        "check_incorrect_predictions(model03,int(正解ラベル),表示数)"
      ],
      "metadata": {
        "id": "OA6allAz2rUV",
        "cellView": "form"
      },
      "id": "OA6allAz2rUV",
      "execution_count": null,
      "outputs": []
    },
    {
      "cell_type": "code",
      "source": [
        "# @title ## 参考：GUIで手書き文字を認識しよう\n",
        "!pip install gradio==4.29.0\n",
        "import gradio as gr\n",
        "import numpy as np\n",
        "\n",
        "model_name = \"model03\"  # @param [\"model01\", \"model02\", \"model03\"]\n",
        "if model_name == \"model01\":\n",
        "    md = model01\n",
        "elif model_name == \"model02\":\n",
        "    md = model02\n",
        "elif model_name == \"model03\":\n",
        "    md = model03\n",
        "\n",
        "# Function to resize and normalize the image\n",
        "def reshape_to_28x28(image):\n",
        "    image = tf.convert_to_tensor(image, dtype=tf.float32)\n",
        "    image = tf.expand_dims(image, axis=-1)  # Add channel dimension\n",
        "    resized_image = tf.image.resize(image, [28, 28]).numpy()\n",
        "    normalized_image = resized_image / 255.0  # Normalize the image to range [0, 1]\n",
        "    return normalized_image\n",
        "\n",
        "# Define the prediction function\n",
        "def classify(sketch):\n",
        "    image = sketch[\"composite\"]\n",
        "    grayscale_image = np.mean(image, axis=2)  # Average across RGB channels\n",
        "\n",
        "    # Resize and normalize the image\n",
        "    resized_image = reshape_to_28x28(grayscale_image)\n",
        "\n",
        "    # Convert the image to the correct shape for the model\n",
        "    reshaped_image = resized_image.reshape(1, 28, 28, 1)  # Add batch and channel dimensions\n",
        "\n",
        "    # Make predictions and convert the result to a list\n",
        "    pred = md.predict(reshaped_image).tolist()[0]\n",
        "\n",
        "    # Get the top 3 predictions\n",
        "    values, indices = tf.math.top_k(pred, k=3)\n",
        "    values = values.numpy().tolist()\n",
        "    indices = indices.numpy().tolist()\n",
        "\n",
        "    # Store confidences in a dictionary\n",
        "    confidences = {str(i): v for i, v in zip(indices, values)}\n",
        "\n",
        "    return confidences\n",
        "\n",
        "# Gradioインターフェースを作成\n",
        "gr.Interface(\n",
        "    fn=classify,\n",
        "    inputs=\"sketchpad\",\n",
        "    outputs=\"label\",\n",
        ").launch(debug=True)"
      ],
      "metadata": {
        "id": "_NBQiuX0ZlP3",
        "cellView": "form"
      },
      "id": "_NBQiuX0ZlP3",
      "execution_count": null,
      "outputs": []
    },
    {
      "cell_type": "code",
      "source": [
        "'''\n",
        "参考：このコードセルの内容を理解する必要はありません\n",
        "'''\n",
        "# @title ## 参考：評価用画像でモデルごとの精度を確認しよう\n",
        "from PIL import Image as PILImage\n",
        "import numpy as np\n",
        "\n",
        "model_name = \"model03\"  # @param [\"model01\", \"model02\", \"model03\"]\n",
        "if model_name == \"model01\":\n",
        "    md = model01\n",
        "elif model_name == \"model02\":\n",
        "    md = model02\n",
        "elif model_name == \"model03\":\n",
        "    md = model03\n",
        "\n",
        "# Function to resize and normalize the image\n",
        "def reshape_to_28x28(image):\n",
        "    image = tf.convert_to_tensor(image, dtype=tf.float32)\n",
        "    image = tf.expand_dims(image, axis=-1)\n",
        "    resized_image = tf.image.resize(image, [28, 28]).numpy()\n",
        "    normalized_image = resized_image / 255.0\n",
        "    return normalized_image\n",
        "\n",
        "# 推論用の関数\n",
        "def predict_image(model, image_path, dsp=False):\n",
        "    # 画像を読み込む\n",
        "    image = PILImage.open(image_path)\n",
        "    grayscale_image = np.mean(image, axis=2)\n",
        "\n",
        "     # 画像をリサイズし、正規化する\n",
        "    resized_image = reshape_to_28x28(grayscale_image)\n",
        "\n",
        "    # モデル用に画像を正しい形状に変換する\n",
        "    reshaped_image = resized_image.reshape(1, 28, 28, 1)\n",
        "\n",
        "    # 予測を行い、結果をリストに変換する\n",
        "    pred = md.predict(reshaped_image).tolist()[0]\n",
        "\n",
        "    # 上位3つの予測を取得する\n",
        "    values, indices = tf.math.top_k(pred, k=3)\n",
        "    values = values.numpy().tolist()\n",
        "    indices = indices.numpy().tolist()\n",
        "\n",
        "    # 結果を表示\n",
        "    if dsp:\n",
        "        plt.imshow(resized_image, cmap='gray')\n",
        "        plt.axis('off')\n",
        "        plt.show()\n",
        "\n",
        "    # トップ5の予測結果を出力\n",
        "    results = []\n",
        "    for v,i in zip(values, indices):\n",
        "        # print(f\"Label {i}: Probability {v:.4f}\")\n",
        "        results.append({\n",
        "            'Label': i,\n",
        "            'Probability': v\n",
        "        })\n",
        "    return pd.DataFrame(results)\n",
        "\n",
        "# 評価用画像のダウンロード\n",
        "!wget -O chap07_sample_digit_5.png https://raw.githubusercontent.com/coraldx5/generativeai_intro_book/master/chap07_sample_digit_5.png\n",
        "\n",
        "# PNG画像のパス\n",
        "image_path = 'chap07_sample_digit_5.png'\n",
        "\n",
        "print(\"◆◆ 検証用画像 ◆◆\")\n",
        "# 推論を実行\n",
        "res_df = predict_image(md, image_path, dsp=True)\n",
        "res_df"
      ],
      "metadata": {
        "cellView": "form",
        "id": "i1rfi22uwviW"
      },
      "id": "i1rfi22uwviW",
      "execution_count": null,
      "outputs": []
    },
    {
      "cell_type": "code",
      "source": [
        "predict_image(model01, image_path, dsp=True)\n",
        "predict_image(model02, image_path, dsp=True)\n",
        "predict_image(model03, image_path, dsp=True)"
      ],
      "metadata": {
        "id": "d0WhiGc4_5Bz"
      },
      "id": "d0WhiGc4_5Bz",
      "execution_count": null,
      "outputs": []
    },
    {
      "cell_type": "code",
      "source": [
        "# @title ## 参考：モデルの可視化を行うコード\n",
        "# ネットワーク構造を可視化するためのライブラリをインストールします\n",
        "!pip install visualkeras==0.1.0\n",
        "import visualkeras\n",
        "\n",
        "# 立体的に可視化してみよう\n",
        "model_name = \"model03\" # @param [\"model01\", \"model02\", \"model03\"]\n",
        "if model_name==\"model01\":\n",
        "    md=model01\n",
        "elif model_name==\"model02\":\n",
        "    md=model02\n",
        "elif model_name==\"model03\":\n",
        "    md=model03\n",
        "visualkeras.layered_view(md, legend=True, show_dimension=True)"
      ],
      "metadata": {
        "cellView": "form",
        "id": "IcdOxJtHR_SR"
      },
      "id": "IcdOxJtHR_SR",
      "execution_count": null,
      "outputs": []
    }
  ],
  "metadata": {
    "accelerator": "GPU",
    "colab": {
      "provenance": [],
      "gpuType": "T4",
      "include_colab_link": true
    },
    "kernelspec": {
      "display_name": "Python 3",
      "name": "python3"
    },
    "language_info": {
      "codemirror_mode": {
        "name": "ipython",
        "version": 3
      },
      "file_extension": ".py",
      "mimetype": "text/x-python",
      "name": "python",
      "nbconvert_exporter": "python",
      "pygments_lexer": "ipython3",
      "version": "3.8.13"
    },
    "toc-autonumbering": false,
    "toc-showmarkdowntxt": false
  },
  "nbformat": 4,
  "nbformat_minor": 5
}